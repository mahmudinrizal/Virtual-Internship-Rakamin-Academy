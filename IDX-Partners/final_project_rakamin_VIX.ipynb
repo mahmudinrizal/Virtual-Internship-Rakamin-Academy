{
  "nbformat": 4,
  "nbformat_minor": 0,
  "metadata": {
    "colab": {
      "name": "final project rakamin VIX.ipynb",
      "provenance": [],
      "collapsed_sections": []
    },
    "kernelspec": {
      "name": "python3",
      "display_name": "Python 3"
    },
    "language_info": {
      "name": "python"
    }
  },
  "cells": [
    {
      "cell_type": "code",
      "execution_count": 95,
      "metadata": {
        "id": "OGAfZ0hdRjgd"
      },
      "outputs": [],
      "source": [
        "import pandas as pd \n",
        "import numpy as np \n",
        "import matplotlib.pyplot as plt \n",
        "import seaborn as sns\n",
        "\n",
        "from sklearn.model_selection import train_test_split\n",
        "from sklearn.preprocessing import StandardScaler \n",
        "from sklearn.linear_model import LogisticRegressionCV\n",
        "from sklearn.neighbors import KNeighborsClassifier\n",
        "from sklearn.naive_bayes import GaussianNB\n",
        "from sklearn.naive_bayes import BernoulliNB\n",
        "from sklearn import preprocessing\n",
        "from sklearn.model_selection import KFold,cross_val_score, RepeatedStratifiedKFold,StratifiedKFold, GridSearchCV\n",
        "from sklearn.impute import SimpleImputer\n",
        "from sklearn.pipeline import Pipeline\n",
        "from sklearn.discriminant_analysis import LinearDiscriminantAnalysis\n",
        "from sklearn.preprocessing import OneHotEncoder,StandardScaler,PowerTransformer\n",
        "from sklearn.compose import ColumnTransformer\n",
        "from sklearn.pipeline import Pipeline\n",
        "from sklearn.linear_model import LogisticRegression\n",
        "from sklearn.svm import SVC\n",
        "from sklearn.impute import SimpleImputer\n",
        "from sklearn.dummy import DummyClassifier\n",
        "from imblearn.over_sampling import SMOTE\n",
        "from sklearn.neighbors import KNeighborsClassifier\n",
        "from sklearn.metrics import accuracy_score, confusion_matrix, roc_auc_score, ConfusionMatrixDisplay,RocCurveDisplay, precision_score, recall_score, f1_score, classification_report, roc_curve, plot_roc_curve, auc, precision_recall_curve, plot_precision_recall_curve, average_precision_score\n",
        "from imblearn.over_sampling import SMOTE\n",
        "\n",
        "import plotly \n",
        "import plotly.express as px\n",
        "import plotly.graph_objs as go\n",
        "import plotly.offline as py\n",
        "from plotly.offline import iplot\n",
        "from plotly.subplots import make_subplots\n",
        "import plotly.figure_factory as ff\n",
        "import matplotlib.ticker as mtick\n",
        "\n",
        "\n",
        "import missingno as msno\n",
        "\n",
        "import warnings\n",
        "warnings.filterwarnings(\"ignore\")"
      ]
    },
    {
      "cell_type": "code",
      "source": [
        "from google.colab import drive\n",
        "drive.mount('/content/gdrive')"
      ],
      "metadata": {
        "colab": {
          "base_uri": "https://localhost:8080/"
        },
        "id": "K9aiUTaZSxXG",
        "outputId": "c43daad8-e058-4c96-9d32-8c177bb0b28f"
      },
      "execution_count": 96,
      "outputs": [
        {
          "output_type": "stream",
          "name": "stdout",
          "text": [
            "Drive already mounted at /content/gdrive; to attempt to forcibly remount, call drive.mount(\"/content/gdrive\", force_remount=True).\n"
          ]
        }
      ]
    },
    {
      "cell_type": "code",
      "source": [
        "df = pd.read_csv('/content/gdrive/MyDrive/Colab Notebooks/Rakamin VIX-IDX/loan_data_2007_2014.csv')\n",
        "df = df.drop(\"Unnamed: 0\", axis=1)\n",
        "df.head()"
      ],
      "metadata": {
        "colab": {
          "base_uri": "https://localhost:8080/",
          "height": 386
        },
        "id": "lt8GUV1wBYNl",
        "outputId": "b470ba25-78f9-4bf8-dca4-f7bd3b91aba2"
      },
      "execution_count": 97,
      "outputs": [
        {
          "output_type": "execute_result",
          "data": {
            "text/plain": [
              "        id  member_id  loan_amnt  funded_amnt  funded_amnt_inv        term  \\\n",
              "0  1077501    1296599       5000         5000           4975.0   36 months   \n",
              "1  1077430    1314167       2500         2500           2500.0   60 months   \n",
              "2  1077175    1313524       2400         2400           2400.0   36 months   \n",
              "3  1076863    1277178      10000        10000          10000.0   36 months   \n",
              "4  1075358    1311748       3000         3000           3000.0   60 months   \n",
              "\n",
              "   int_rate  installment grade sub_grade  ... total_bal_il il_util  \\\n",
              "0     10.65       162.87     B        B2  ...          NaN     NaN   \n",
              "1     15.27        59.83     C        C4  ...          NaN     NaN   \n",
              "2     15.96        84.33     C        C5  ...          NaN     NaN   \n",
              "3     13.49       339.31     C        C1  ...          NaN     NaN   \n",
              "4     12.69        67.79     B        B5  ...          NaN     NaN   \n",
              "\n",
              "  open_rv_12m  open_rv_24m max_bal_bc all_util total_rev_hi_lim inq_fi  \\\n",
              "0         NaN          NaN        NaN      NaN              NaN    NaN   \n",
              "1         NaN          NaN        NaN      NaN              NaN    NaN   \n",
              "2         NaN          NaN        NaN      NaN              NaN    NaN   \n",
              "3         NaN          NaN        NaN      NaN              NaN    NaN   \n",
              "4         NaN          NaN        NaN      NaN              NaN    NaN   \n",
              "\n",
              "  total_cu_tl inq_last_12m  \n",
              "0         NaN          NaN  \n",
              "1         NaN          NaN  \n",
              "2         NaN          NaN  \n",
              "3         NaN          NaN  \n",
              "4         NaN          NaN  \n",
              "\n",
              "[5 rows x 74 columns]"
            ],
            "text/html": [
              "\n",
              "  <div id=\"df-56459f78-7347-4be6-9396-2948c15afd8e\">\n",
              "    <div class=\"colab-df-container\">\n",
              "      <div>\n",
              "<style scoped>\n",
              "    .dataframe tbody tr th:only-of-type {\n",
              "        vertical-align: middle;\n",
              "    }\n",
              "\n",
              "    .dataframe tbody tr th {\n",
              "        vertical-align: top;\n",
              "    }\n",
              "\n",
              "    .dataframe thead th {\n",
              "        text-align: right;\n",
              "    }\n",
              "</style>\n",
              "<table border=\"1\" class=\"dataframe\">\n",
              "  <thead>\n",
              "    <tr style=\"text-align: right;\">\n",
              "      <th></th>\n",
              "      <th>id</th>\n",
              "      <th>member_id</th>\n",
              "      <th>loan_amnt</th>\n",
              "      <th>funded_amnt</th>\n",
              "      <th>funded_amnt_inv</th>\n",
              "      <th>term</th>\n",
              "      <th>int_rate</th>\n",
              "      <th>installment</th>\n",
              "      <th>grade</th>\n",
              "      <th>sub_grade</th>\n",
              "      <th>...</th>\n",
              "      <th>total_bal_il</th>\n",
              "      <th>il_util</th>\n",
              "      <th>open_rv_12m</th>\n",
              "      <th>open_rv_24m</th>\n",
              "      <th>max_bal_bc</th>\n",
              "      <th>all_util</th>\n",
              "      <th>total_rev_hi_lim</th>\n",
              "      <th>inq_fi</th>\n",
              "      <th>total_cu_tl</th>\n",
              "      <th>inq_last_12m</th>\n",
              "    </tr>\n",
              "  </thead>\n",
              "  <tbody>\n",
              "    <tr>\n",
              "      <th>0</th>\n",
              "      <td>1077501</td>\n",
              "      <td>1296599</td>\n",
              "      <td>5000</td>\n",
              "      <td>5000</td>\n",
              "      <td>4975.0</td>\n",
              "      <td>36 months</td>\n",
              "      <td>10.65</td>\n",
              "      <td>162.87</td>\n",
              "      <td>B</td>\n",
              "      <td>B2</td>\n",
              "      <td>...</td>\n",
              "      <td>NaN</td>\n",
              "      <td>NaN</td>\n",
              "      <td>NaN</td>\n",
              "      <td>NaN</td>\n",
              "      <td>NaN</td>\n",
              "      <td>NaN</td>\n",
              "      <td>NaN</td>\n",
              "      <td>NaN</td>\n",
              "      <td>NaN</td>\n",
              "      <td>NaN</td>\n",
              "    </tr>\n",
              "    <tr>\n",
              "      <th>1</th>\n",
              "      <td>1077430</td>\n",
              "      <td>1314167</td>\n",
              "      <td>2500</td>\n",
              "      <td>2500</td>\n",
              "      <td>2500.0</td>\n",
              "      <td>60 months</td>\n",
              "      <td>15.27</td>\n",
              "      <td>59.83</td>\n",
              "      <td>C</td>\n",
              "      <td>C4</td>\n",
              "      <td>...</td>\n",
              "      <td>NaN</td>\n",
              "      <td>NaN</td>\n",
              "      <td>NaN</td>\n",
              "      <td>NaN</td>\n",
              "      <td>NaN</td>\n",
              "      <td>NaN</td>\n",
              "      <td>NaN</td>\n",
              "      <td>NaN</td>\n",
              "      <td>NaN</td>\n",
              "      <td>NaN</td>\n",
              "    </tr>\n",
              "    <tr>\n",
              "      <th>2</th>\n",
              "      <td>1077175</td>\n",
              "      <td>1313524</td>\n",
              "      <td>2400</td>\n",
              "      <td>2400</td>\n",
              "      <td>2400.0</td>\n",
              "      <td>36 months</td>\n",
              "      <td>15.96</td>\n",
              "      <td>84.33</td>\n",
              "      <td>C</td>\n",
              "      <td>C5</td>\n",
              "      <td>...</td>\n",
              "      <td>NaN</td>\n",
              "      <td>NaN</td>\n",
              "      <td>NaN</td>\n",
              "      <td>NaN</td>\n",
              "      <td>NaN</td>\n",
              "      <td>NaN</td>\n",
              "      <td>NaN</td>\n",
              "      <td>NaN</td>\n",
              "      <td>NaN</td>\n",
              "      <td>NaN</td>\n",
              "    </tr>\n",
              "    <tr>\n",
              "      <th>3</th>\n",
              "      <td>1076863</td>\n",
              "      <td>1277178</td>\n",
              "      <td>10000</td>\n",
              "      <td>10000</td>\n",
              "      <td>10000.0</td>\n",
              "      <td>36 months</td>\n",
              "      <td>13.49</td>\n",
              "      <td>339.31</td>\n",
              "      <td>C</td>\n",
              "      <td>C1</td>\n",
              "      <td>...</td>\n",
              "      <td>NaN</td>\n",
              "      <td>NaN</td>\n",
              "      <td>NaN</td>\n",
              "      <td>NaN</td>\n",
              "      <td>NaN</td>\n",
              "      <td>NaN</td>\n",
              "      <td>NaN</td>\n",
              "      <td>NaN</td>\n",
              "      <td>NaN</td>\n",
              "      <td>NaN</td>\n",
              "    </tr>\n",
              "    <tr>\n",
              "      <th>4</th>\n",
              "      <td>1075358</td>\n",
              "      <td>1311748</td>\n",
              "      <td>3000</td>\n",
              "      <td>3000</td>\n",
              "      <td>3000.0</td>\n",
              "      <td>60 months</td>\n",
              "      <td>12.69</td>\n",
              "      <td>67.79</td>\n",
              "      <td>B</td>\n",
              "      <td>B5</td>\n",
              "      <td>...</td>\n",
              "      <td>NaN</td>\n",
              "      <td>NaN</td>\n",
              "      <td>NaN</td>\n",
              "      <td>NaN</td>\n",
              "      <td>NaN</td>\n",
              "      <td>NaN</td>\n",
              "      <td>NaN</td>\n",
              "      <td>NaN</td>\n",
              "      <td>NaN</td>\n",
              "      <td>NaN</td>\n",
              "    </tr>\n",
              "  </tbody>\n",
              "</table>\n",
              "<p>5 rows × 74 columns</p>\n",
              "</div>\n",
              "      <button class=\"colab-df-convert\" onclick=\"convertToInteractive('df-56459f78-7347-4be6-9396-2948c15afd8e')\"\n",
              "              title=\"Convert this dataframe to an interactive table.\"\n",
              "              style=\"display:none;\">\n",
              "        \n",
              "  <svg xmlns=\"http://www.w3.org/2000/svg\" height=\"24px\"viewBox=\"0 0 24 24\"\n",
              "       width=\"24px\">\n",
              "    <path d=\"M0 0h24v24H0V0z\" fill=\"none\"/>\n",
              "    <path d=\"M18.56 5.44l.94 2.06.94-2.06 2.06-.94-2.06-.94-.94-2.06-.94 2.06-2.06.94zm-11 1L8.5 8.5l.94-2.06 2.06-.94-2.06-.94L8.5 2.5l-.94 2.06-2.06.94zm10 10l.94 2.06.94-2.06 2.06-.94-2.06-.94-.94-2.06-.94 2.06-2.06.94z\"/><path d=\"M17.41 7.96l-1.37-1.37c-.4-.4-.92-.59-1.43-.59-.52 0-1.04.2-1.43.59L10.3 9.45l-7.72 7.72c-.78.78-.78 2.05 0 2.83L4 21.41c.39.39.9.59 1.41.59.51 0 1.02-.2 1.41-.59l7.78-7.78 2.81-2.81c.8-.78.8-2.07 0-2.86zM5.41 20L4 18.59l7.72-7.72 1.47 1.35L5.41 20z\"/>\n",
              "  </svg>\n",
              "      </button>\n",
              "      \n",
              "  <style>\n",
              "    .colab-df-container {\n",
              "      display:flex;\n",
              "      flex-wrap:wrap;\n",
              "      gap: 12px;\n",
              "    }\n",
              "\n",
              "    .colab-df-convert {\n",
              "      background-color: #E8F0FE;\n",
              "      border: none;\n",
              "      border-radius: 50%;\n",
              "      cursor: pointer;\n",
              "      display: none;\n",
              "      fill: #1967D2;\n",
              "      height: 32px;\n",
              "      padding: 0 0 0 0;\n",
              "      width: 32px;\n",
              "    }\n",
              "\n",
              "    .colab-df-convert:hover {\n",
              "      background-color: #E2EBFA;\n",
              "      box-shadow: 0px 1px 2px rgba(60, 64, 67, 0.3), 0px 1px 3px 1px rgba(60, 64, 67, 0.15);\n",
              "      fill: #174EA6;\n",
              "    }\n",
              "\n",
              "    [theme=dark] .colab-df-convert {\n",
              "      background-color: #3B4455;\n",
              "      fill: #D2E3FC;\n",
              "    }\n",
              "\n",
              "    [theme=dark] .colab-df-convert:hover {\n",
              "      background-color: #434B5C;\n",
              "      box-shadow: 0px 1px 3px 1px rgba(0, 0, 0, 0.15);\n",
              "      filter: drop-shadow(0px 1px 2px rgba(0, 0, 0, 0.3));\n",
              "      fill: #FFFFFF;\n",
              "    }\n",
              "  </style>\n",
              "\n",
              "      <script>\n",
              "        const buttonEl =\n",
              "          document.querySelector('#df-56459f78-7347-4be6-9396-2948c15afd8e button.colab-df-convert');\n",
              "        buttonEl.style.display =\n",
              "          google.colab.kernel.accessAllowed ? 'block' : 'none';\n",
              "\n",
              "        async function convertToInteractive(key) {\n",
              "          const element = document.querySelector('#df-56459f78-7347-4be6-9396-2948c15afd8e');\n",
              "          const dataTable =\n",
              "            await google.colab.kernel.invokeFunction('convertToInteractive',\n",
              "                                                     [key], {});\n",
              "          if (!dataTable) return;\n",
              "\n",
              "          const docLinkHtml = 'Like what you see? Visit the ' +\n",
              "            '<a target=\"_blank\" href=https://colab.research.google.com/notebooks/data_table.ipynb>data table notebook</a>'\n",
              "            + ' to learn more about interactive tables.';\n",
              "          element.innerHTML = '';\n",
              "          dataTable['output_type'] = 'display_data';\n",
              "          await google.colab.output.renderOutput(dataTable, element);\n",
              "          const docLink = document.createElement('div');\n",
              "          docLink.innerHTML = docLinkHtml;\n",
              "          element.appendChild(docLink);\n",
              "        }\n",
              "      </script>\n",
              "    </div>\n",
              "  </div>\n",
              "  "
            ]
          },
          "metadata": {},
          "execution_count": 97
        }
      ]
    },
    {
      "cell_type": "markdown",
      "source": [
        "# **A. DATA CLEANING AND PREPARATION**"
      ],
      "metadata": {
        "id": "RzQPGR2QE4yd"
      }
    },
    {
      "cell_type": "code",
      "source": [
        "df.info()"
      ],
      "metadata": {
        "id": "wpvmTJu3BuRR",
        "outputId": "50157ce8-9283-4c2f-bf5e-049e0810dec1",
        "colab": {
          "base_uri": "https://localhost:8080/"
        }
      },
      "execution_count": 98,
      "outputs": [
        {
          "output_type": "stream",
          "name": "stdout",
          "text": [
            "<class 'pandas.core.frame.DataFrame'>\n",
            "RangeIndex: 466285 entries, 0 to 466284\n",
            "Data columns (total 74 columns):\n",
            " #   Column                       Non-Null Count   Dtype  \n",
            "---  ------                       --------------   -----  \n",
            " 0   id                           466285 non-null  int64  \n",
            " 1   member_id                    466285 non-null  int64  \n",
            " 2   loan_amnt                    466285 non-null  int64  \n",
            " 3   funded_amnt                  466285 non-null  int64  \n",
            " 4   funded_amnt_inv              466285 non-null  float64\n",
            " 5   term                         466285 non-null  object \n",
            " 6   int_rate                     466285 non-null  float64\n",
            " 7   installment                  466285 non-null  float64\n",
            " 8   grade                        466285 non-null  object \n",
            " 9   sub_grade                    466285 non-null  object \n",
            " 10  emp_title                    438697 non-null  object \n",
            " 11  emp_length                   445277 non-null  object \n",
            " 12  home_ownership               466285 non-null  object \n",
            " 13  annual_inc                   466281 non-null  float64\n",
            " 14  verification_status          466285 non-null  object \n",
            " 15  issue_d                      466285 non-null  object \n",
            " 16  loan_status                  466285 non-null  object \n",
            " 17  pymnt_plan                   466285 non-null  object \n",
            " 18  url                          466285 non-null  object \n",
            " 19  desc                         125983 non-null  object \n",
            " 20  purpose                      466285 non-null  object \n",
            " 21  title                        466265 non-null  object \n",
            " 22  zip_code                     466285 non-null  object \n",
            " 23  addr_state                   466285 non-null  object \n",
            " 24  dti                          466285 non-null  float64\n",
            " 25  delinq_2yrs                  466256 non-null  float64\n",
            " 26  earliest_cr_line             466256 non-null  object \n",
            " 27  inq_last_6mths               466256 non-null  float64\n",
            " 28  mths_since_last_delinq       215934 non-null  float64\n",
            " 29  mths_since_last_record       62638 non-null   float64\n",
            " 30  open_acc                     466256 non-null  float64\n",
            " 31  pub_rec                      466256 non-null  float64\n",
            " 32  revol_bal                    466285 non-null  int64  \n",
            " 33  revol_util                   465945 non-null  float64\n",
            " 34  total_acc                    466256 non-null  float64\n",
            " 35  initial_list_status          466285 non-null  object \n",
            " 36  out_prncp                    466285 non-null  float64\n",
            " 37  out_prncp_inv                466285 non-null  float64\n",
            " 38  total_pymnt                  466285 non-null  float64\n",
            " 39  total_pymnt_inv              466285 non-null  float64\n",
            " 40  total_rec_prncp              466285 non-null  float64\n",
            " 41  total_rec_int                466285 non-null  float64\n",
            " 42  total_rec_late_fee           466285 non-null  float64\n",
            " 43  recoveries                   466285 non-null  float64\n",
            " 44  collection_recovery_fee      466285 non-null  float64\n",
            " 45  last_pymnt_d                 465909 non-null  object \n",
            " 46  last_pymnt_amnt              466285 non-null  float64\n",
            " 47  next_pymnt_d                 239071 non-null  object \n",
            " 48  last_credit_pull_d           466243 non-null  object \n",
            " 49  collections_12_mths_ex_med   466140 non-null  float64\n",
            " 50  mths_since_last_major_derog  98974 non-null   float64\n",
            " 51  policy_code                  466285 non-null  int64  \n",
            " 52  application_type             466285 non-null  object \n",
            " 53  annual_inc_joint             0 non-null       float64\n",
            " 54  dti_joint                    0 non-null       float64\n",
            " 55  verification_status_joint    0 non-null       float64\n",
            " 56  acc_now_delinq               466256 non-null  float64\n",
            " 57  tot_coll_amt                 396009 non-null  float64\n",
            " 58  tot_cur_bal                  396009 non-null  float64\n",
            " 59  open_acc_6m                  0 non-null       float64\n",
            " 60  open_il_6m                   0 non-null       float64\n",
            " 61  open_il_12m                  0 non-null       float64\n",
            " 62  open_il_24m                  0 non-null       float64\n",
            " 63  mths_since_rcnt_il           0 non-null       float64\n",
            " 64  total_bal_il                 0 non-null       float64\n",
            " 65  il_util                      0 non-null       float64\n",
            " 66  open_rv_12m                  0 non-null       float64\n",
            " 67  open_rv_24m                  0 non-null       float64\n",
            " 68  max_bal_bc                   0 non-null       float64\n",
            " 69  all_util                     0 non-null       float64\n",
            " 70  total_rev_hi_lim             396009 non-null  float64\n",
            " 71  inq_fi                       0 non-null       float64\n",
            " 72  total_cu_tl                  0 non-null       float64\n",
            " 73  inq_last_12m                 0 non-null       float64\n",
            "dtypes: float64(46), int64(6), object(22)\n",
            "memory usage: 263.3+ MB\n"
          ]
        }
      ]
    },
    {
      "cell_type": "markdown",
      "source": [
        "**A.1. Handling Missing Values**\n",
        "\n",
        "Feature with missing values + zero values with total % more than 15% will be droped"
      ],
      "metadata": {
        "id": "Sf8fbfjeE9PA"
      }
    },
    {
      "cell_type": "code",
      "source": [
        "def missing_values_table(df):\n",
        "        zero_val = (df == 0.00).astype(int).sum(axis=0)\n",
        "        mis_val = df.isnull().sum()\n",
        "        mis_val_percent = 100 * df.isnull().sum() / len(df)\n",
        "        mv_table = pd.concat([zero_val, mis_val, mis_val_percent], axis=1)\n",
        "        mv_table = mv_table.rename(columns = {0 : 'Zero Values', 1 : 'Missing Values', 2 : '% of Missing Values'})\n",
        "        mv_table['Total Zero + Missing Values'] = mv_table['Zero Values'] + mv_table['Missing Values']\n",
        "        mv_table['% Total Zero + Missing Values'] = 100 * mv_table['Total Zero + Missing Values'] / len(df)\n",
        "        mv_table['Data Type'] = df.dtypes\n",
        "        mv_table = mv_table[\n",
        "            mv_table.iloc[:,1] != 0].sort_values(\n",
        "        '% of Missing Values', ascending=False).round(1)\n",
        "        print (\"Your selected dataframe has \" + str(df.shape[1]) + \" columns and \" + str(df.shape[0]) + \" Rows.\\n\"      \n",
        "            \"There are \" + str(mv_table.shape[0]) +\n",
        "              \" columns that have missing values.\")\n",
        "        return mv_table\n",
        "\n",
        "miss_table = missing_values_table(df)\n",
        "miss_table"
      ],
      "metadata": {
        "colab": {
          "base_uri": "https://localhost:8080/",
          "height": 1000
        },
        "id": "hruHdPa83x02",
        "outputId": "4eea05d7-ea32-497a-8f21-129232abd51a"
      },
      "execution_count": 99,
      "outputs": [
        {
          "output_type": "stream",
          "name": "stdout",
          "text": [
            "Your selected dataframe has 74 columns and 466285 Rows.\n",
            "There are 40 columns that have missing values.\n"
          ]
        },
        {
          "output_type": "execute_result",
          "data": {
            "text/plain": [
              "                             Zero Values  Missing Values  % of Missing Values  \\\n",
              "dti_joint                              0          466285                100.0   \n",
              "annual_inc_joint                       0          466285                100.0   \n",
              "total_cu_tl                            0          466285                100.0   \n",
              "inq_fi                                 0          466285                100.0   \n",
              "all_util                               0          466285                100.0   \n",
              "max_bal_bc                             0          466285                100.0   \n",
              "open_rv_24m                            0          466285                100.0   \n",
              "open_rv_12m                            0          466285                100.0   \n",
              "il_util                                0          466285                100.0   \n",
              "total_bal_il                           0          466285                100.0   \n",
              "mths_since_rcnt_il                     0          466285                100.0   \n",
              "open_il_24m                            0          466285                100.0   \n",
              "open_il_12m                            0          466285                100.0   \n",
              "open_il_6m                             0          466285                100.0   \n",
              "open_acc_6m                            0          466285                100.0   \n",
              "verification_status_joint              0          466285                100.0   \n",
              "inq_last_12m                           0          466285                100.0   \n",
              "mths_since_last_record              1278          403647                 86.6   \n",
              "mths_since_last_major_derog           79          367311                 78.8   \n",
              "desc                                   0          340302                 73.0   \n",
              "mths_since_last_delinq              1223          250351                 53.7   \n",
              "next_pymnt_d                           0          227214                 48.7   \n",
              "total_rev_hi_lim                     155           70276                 15.1   \n",
              "tot_coll_amt                      346259           70276                 15.1   \n",
              "tot_cur_bal                           78           70276                 15.1   \n",
              "emp_title                              0           27588                  5.9   \n",
              "emp_length                             0           21008                  4.5   \n",
              "last_pymnt_d                           0             376                  0.1   \n",
              "revol_util                          2284             340                  0.1   \n",
              "collections_12_mths_ex_med        462226             145                  0.0   \n",
              "last_credit_pull_d                     0              42                  0.0   \n",
              "open_acc                               7              29                  0.0   \n",
              "total_acc                              0              29                  0.0   \n",
              "inq_last_6mths                    241498              29                  0.0   \n",
              "earliest_cr_line                       0              29                  0.0   \n",
              "delinq_2yrs                       382954              29                  0.0   \n",
              "acc_now_delinq                    464524              29                  0.0   \n",
              "pub_rec                           404893              29                  0.0   \n",
              "title                                  0              20                  0.0   \n",
              "annual_inc                             0               4                  0.0   \n",
              "\n",
              "                             Total Zero + Missing Values  \\\n",
              "dti_joint                                         466285   \n",
              "annual_inc_joint                                  466285   \n",
              "total_cu_tl                                       466285   \n",
              "inq_fi                                            466285   \n",
              "all_util                                          466285   \n",
              "max_bal_bc                                        466285   \n",
              "open_rv_24m                                       466285   \n",
              "open_rv_12m                                       466285   \n",
              "il_util                                           466285   \n",
              "total_bal_il                                      466285   \n",
              "mths_since_rcnt_il                                466285   \n",
              "open_il_24m                                       466285   \n",
              "open_il_12m                                       466285   \n",
              "open_il_6m                                        466285   \n",
              "open_acc_6m                                       466285   \n",
              "verification_status_joint                         466285   \n",
              "inq_last_12m                                      466285   \n",
              "mths_since_last_record                            404925   \n",
              "mths_since_last_major_derog                       367390   \n",
              "desc                                              340302   \n",
              "mths_since_last_delinq                            251574   \n",
              "next_pymnt_d                                      227214   \n",
              "total_rev_hi_lim                                   70431   \n",
              "tot_coll_amt                                      416535   \n",
              "tot_cur_bal                                        70354   \n",
              "emp_title                                          27588   \n",
              "emp_length                                         21008   \n",
              "last_pymnt_d                                         376   \n",
              "revol_util                                          2624   \n",
              "collections_12_mths_ex_med                        462371   \n",
              "last_credit_pull_d                                    42   \n",
              "open_acc                                              36   \n",
              "total_acc                                             29   \n",
              "inq_last_6mths                                    241527   \n",
              "earliest_cr_line                                      29   \n",
              "delinq_2yrs                                       382983   \n",
              "acc_now_delinq                                    464553   \n",
              "pub_rec                                           404922   \n",
              "title                                                 20   \n",
              "annual_inc                                             4   \n",
              "\n",
              "                             % Total Zero + Missing Values Data Type  \n",
              "dti_joint                                            100.0   float64  \n",
              "annual_inc_joint                                     100.0   float64  \n",
              "total_cu_tl                                          100.0   float64  \n",
              "inq_fi                                               100.0   float64  \n",
              "all_util                                             100.0   float64  \n",
              "max_bal_bc                                           100.0   float64  \n",
              "open_rv_24m                                          100.0   float64  \n",
              "open_rv_12m                                          100.0   float64  \n",
              "il_util                                              100.0   float64  \n",
              "total_bal_il                                         100.0   float64  \n",
              "mths_since_rcnt_il                                   100.0   float64  \n",
              "open_il_24m                                          100.0   float64  \n",
              "open_il_12m                                          100.0   float64  \n",
              "open_il_6m                                           100.0   float64  \n",
              "open_acc_6m                                          100.0   float64  \n",
              "verification_status_joint                            100.0   float64  \n",
              "inq_last_12m                                         100.0   float64  \n",
              "mths_since_last_record                                86.8   float64  \n",
              "mths_since_last_major_derog                           78.8   float64  \n",
              "desc                                                  73.0    object  \n",
              "mths_since_last_delinq                                54.0   float64  \n",
              "next_pymnt_d                                          48.7    object  \n",
              "total_rev_hi_lim                                      15.1   float64  \n",
              "tot_coll_amt                                          89.3   float64  \n",
              "tot_cur_bal                                           15.1   float64  \n",
              "emp_title                                              5.9    object  \n",
              "emp_length                                             4.5    object  \n",
              "last_pymnt_d                                           0.1    object  \n",
              "revol_util                                             0.6   float64  \n",
              "collections_12_mths_ex_med                            99.2   float64  \n",
              "last_credit_pull_d                                     0.0    object  \n",
              "open_acc                                               0.0   float64  \n",
              "total_acc                                              0.0   float64  \n",
              "inq_last_6mths                                        51.8   float64  \n",
              "earliest_cr_line                                       0.0    object  \n",
              "delinq_2yrs                                           82.1   float64  \n",
              "acc_now_delinq                                        99.6   float64  \n",
              "pub_rec                                               86.8   float64  \n",
              "title                                                  0.0    object  \n",
              "annual_inc                                             0.0   float64  "
            ],
            "text/html": [
              "\n",
              "  <div id=\"df-d713b0c8-a170-4fab-bda8-d42eb0cb7b00\">\n",
              "    <div class=\"colab-df-container\">\n",
              "      <div>\n",
              "<style scoped>\n",
              "    .dataframe tbody tr th:only-of-type {\n",
              "        vertical-align: middle;\n",
              "    }\n",
              "\n",
              "    .dataframe tbody tr th {\n",
              "        vertical-align: top;\n",
              "    }\n",
              "\n",
              "    .dataframe thead th {\n",
              "        text-align: right;\n",
              "    }\n",
              "</style>\n",
              "<table border=\"1\" class=\"dataframe\">\n",
              "  <thead>\n",
              "    <tr style=\"text-align: right;\">\n",
              "      <th></th>\n",
              "      <th>Zero Values</th>\n",
              "      <th>Missing Values</th>\n",
              "      <th>% of Missing Values</th>\n",
              "      <th>Total Zero + Missing Values</th>\n",
              "      <th>% Total Zero + Missing Values</th>\n",
              "      <th>Data Type</th>\n",
              "    </tr>\n",
              "  </thead>\n",
              "  <tbody>\n",
              "    <tr>\n",
              "      <th>dti_joint</th>\n",
              "      <td>0</td>\n",
              "      <td>466285</td>\n",
              "      <td>100.0</td>\n",
              "      <td>466285</td>\n",
              "      <td>100.0</td>\n",
              "      <td>float64</td>\n",
              "    </tr>\n",
              "    <tr>\n",
              "      <th>annual_inc_joint</th>\n",
              "      <td>0</td>\n",
              "      <td>466285</td>\n",
              "      <td>100.0</td>\n",
              "      <td>466285</td>\n",
              "      <td>100.0</td>\n",
              "      <td>float64</td>\n",
              "    </tr>\n",
              "    <tr>\n",
              "      <th>total_cu_tl</th>\n",
              "      <td>0</td>\n",
              "      <td>466285</td>\n",
              "      <td>100.0</td>\n",
              "      <td>466285</td>\n",
              "      <td>100.0</td>\n",
              "      <td>float64</td>\n",
              "    </tr>\n",
              "    <tr>\n",
              "      <th>inq_fi</th>\n",
              "      <td>0</td>\n",
              "      <td>466285</td>\n",
              "      <td>100.0</td>\n",
              "      <td>466285</td>\n",
              "      <td>100.0</td>\n",
              "      <td>float64</td>\n",
              "    </tr>\n",
              "    <tr>\n",
              "      <th>all_util</th>\n",
              "      <td>0</td>\n",
              "      <td>466285</td>\n",
              "      <td>100.0</td>\n",
              "      <td>466285</td>\n",
              "      <td>100.0</td>\n",
              "      <td>float64</td>\n",
              "    </tr>\n",
              "    <tr>\n",
              "      <th>max_bal_bc</th>\n",
              "      <td>0</td>\n",
              "      <td>466285</td>\n",
              "      <td>100.0</td>\n",
              "      <td>466285</td>\n",
              "      <td>100.0</td>\n",
              "      <td>float64</td>\n",
              "    </tr>\n",
              "    <tr>\n",
              "      <th>open_rv_24m</th>\n",
              "      <td>0</td>\n",
              "      <td>466285</td>\n",
              "      <td>100.0</td>\n",
              "      <td>466285</td>\n",
              "      <td>100.0</td>\n",
              "      <td>float64</td>\n",
              "    </tr>\n",
              "    <tr>\n",
              "      <th>open_rv_12m</th>\n",
              "      <td>0</td>\n",
              "      <td>466285</td>\n",
              "      <td>100.0</td>\n",
              "      <td>466285</td>\n",
              "      <td>100.0</td>\n",
              "      <td>float64</td>\n",
              "    </tr>\n",
              "    <tr>\n",
              "      <th>il_util</th>\n",
              "      <td>0</td>\n",
              "      <td>466285</td>\n",
              "      <td>100.0</td>\n",
              "      <td>466285</td>\n",
              "      <td>100.0</td>\n",
              "      <td>float64</td>\n",
              "    </tr>\n",
              "    <tr>\n",
              "      <th>total_bal_il</th>\n",
              "      <td>0</td>\n",
              "      <td>466285</td>\n",
              "      <td>100.0</td>\n",
              "      <td>466285</td>\n",
              "      <td>100.0</td>\n",
              "      <td>float64</td>\n",
              "    </tr>\n",
              "    <tr>\n",
              "      <th>mths_since_rcnt_il</th>\n",
              "      <td>0</td>\n",
              "      <td>466285</td>\n",
              "      <td>100.0</td>\n",
              "      <td>466285</td>\n",
              "      <td>100.0</td>\n",
              "      <td>float64</td>\n",
              "    </tr>\n",
              "    <tr>\n",
              "      <th>open_il_24m</th>\n",
              "      <td>0</td>\n",
              "      <td>466285</td>\n",
              "      <td>100.0</td>\n",
              "      <td>466285</td>\n",
              "      <td>100.0</td>\n",
              "      <td>float64</td>\n",
              "    </tr>\n",
              "    <tr>\n",
              "      <th>open_il_12m</th>\n",
              "      <td>0</td>\n",
              "      <td>466285</td>\n",
              "      <td>100.0</td>\n",
              "      <td>466285</td>\n",
              "      <td>100.0</td>\n",
              "      <td>float64</td>\n",
              "    </tr>\n",
              "    <tr>\n",
              "      <th>open_il_6m</th>\n",
              "      <td>0</td>\n",
              "      <td>466285</td>\n",
              "      <td>100.0</td>\n",
              "      <td>466285</td>\n",
              "      <td>100.0</td>\n",
              "      <td>float64</td>\n",
              "    </tr>\n",
              "    <tr>\n",
              "      <th>open_acc_6m</th>\n",
              "      <td>0</td>\n",
              "      <td>466285</td>\n",
              "      <td>100.0</td>\n",
              "      <td>466285</td>\n",
              "      <td>100.0</td>\n",
              "      <td>float64</td>\n",
              "    </tr>\n",
              "    <tr>\n",
              "      <th>verification_status_joint</th>\n",
              "      <td>0</td>\n",
              "      <td>466285</td>\n",
              "      <td>100.0</td>\n",
              "      <td>466285</td>\n",
              "      <td>100.0</td>\n",
              "      <td>float64</td>\n",
              "    </tr>\n",
              "    <tr>\n",
              "      <th>inq_last_12m</th>\n",
              "      <td>0</td>\n",
              "      <td>466285</td>\n",
              "      <td>100.0</td>\n",
              "      <td>466285</td>\n",
              "      <td>100.0</td>\n",
              "      <td>float64</td>\n",
              "    </tr>\n",
              "    <tr>\n",
              "      <th>mths_since_last_record</th>\n",
              "      <td>1278</td>\n",
              "      <td>403647</td>\n",
              "      <td>86.6</td>\n",
              "      <td>404925</td>\n",
              "      <td>86.8</td>\n",
              "      <td>float64</td>\n",
              "    </tr>\n",
              "    <tr>\n",
              "      <th>mths_since_last_major_derog</th>\n",
              "      <td>79</td>\n",
              "      <td>367311</td>\n",
              "      <td>78.8</td>\n",
              "      <td>367390</td>\n",
              "      <td>78.8</td>\n",
              "      <td>float64</td>\n",
              "    </tr>\n",
              "    <tr>\n",
              "      <th>desc</th>\n",
              "      <td>0</td>\n",
              "      <td>340302</td>\n",
              "      <td>73.0</td>\n",
              "      <td>340302</td>\n",
              "      <td>73.0</td>\n",
              "      <td>object</td>\n",
              "    </tr>\n",
              "    <tr>\n",
              "      <th>mths_since_last_delinq</th>\n",
              "      <td>1223</td>\n",
              "      <td>250351</td>\n",
              "      <td>53.7</td>\n",
              "      <td>251574</td>\n",
              "      <td>54.0</td>\n",
              "      <td>float64</td>\n",
              "    </tr>\n",
              "    <tr>\n",
              "      <th>next_pymnt_d</th>\n",
              "      <td>0</td>\n",
              "      <td>227214</td>\n",
              "      <td>48.7</td>\n",
              "      <td>227214</td>\n",
              "      <td>48.7</td>\n",
              "      <td>object</td>\n",
              "    </tr>\n",
              "    <tr>\n",
              "      <th>total_rev_hi_lim</th>\n",
              "      <td>155</td>\n",
              "      <td>70276</td>\n",
              "      <td>15.1</td>\n",
              "      <td>70431</td>\n",
              "      <td>15.1</td>\n",
              "      <td>float64</td>\n",
              "    </tr>\n",
              "    <tr>\n",
              "      <th>tot_coll_amt</th>\n",
              "      <td>346259</td>\n",
              "      <td>70276</td>\n",
              "      <td>15.1</td>\n",
              "      <td>416535</td>\n",
              "      <td>89.3</td>\n",
              "      <td>float64</td>\n",
              "    </tr>\n",
              "    <tr>\n",
              "      <th>tot_cur_bal</th>\n",
              "      <td>78</td>\n",
              "      <td>70276</td>\n",
              "      <td>15.1</td>\n",
              "      <td>70354</td>\n",
              "      <td>15.1</td>\n",
              "      <td>float64</td>\n",
              "    </tr>\n",
              "    <tr>\n",
              "      <th>emp_title</th>\n",
              "      <td>0</td>\n",
              "      <td>27588</td>\n",
              "      <td>5.9</td>\n",
              "      <td>27588</td>\n",
              "      <td>5.9</td>\n",
              "      <td>object</td>\n",
              "    </tr>\n",
              "    <tr>\n",
              "      <th>emp_length</th>\n",
              "      <td>0</td>\n",
              "      <td>21008</td>\n",
              "      <td>4.5</td>\n",
              "      <td>21008</td>\n",
              "      <td>4.5</td>\n",
              "      <td>object</td>\n",
              "    </tr>\n",
              "    <tr>\n",
              "      <th>last_pymnt_d</th>\n",
              "      <td>0</td>\n",
              "      <td>376</td>\n",
              "      <td>0.1</td>\n",
              "      <td>376</td>\n",
              "      <td>0.1</td>\n",
              "      <td>object</td>\n",
              "    </tr>\n",
              "    <tr>\n",
              "      <th>revol_util</th>\n",
              "      <td>2284</td>\n",
              "      <td>340</td>\n",
              "      <td>0.1</td>\n",
              "      <td>2624</td>\n",
              "      <td>0.6</td>\n",
              "      <td>float64</td>\n",
              "    </tr>\n",
              "    <tr>\n",
              "      <th>collections_12_mths_ex_med</th>\n",
              "      <td>462226</td>\n",
              "      <td>145</td>\n",
              "      <td>0.0</td>\n",
              "      <td>462371</td>\n",
              "      <td>99.2</td>\n",
              "      <td>float64</td>\n",
              "    </tr>\n",
              "    <tr>\n",
              "      <th>last_credit_pull_d</th>\n",
              "      <td>0</td>\n",
              "      <td>42</td>\n",
              "      <td>0.0</td>\n",
              "      <td>42</td>\n",
              "      <td>0.0</td>\n",
              "      <td>object</td>\n",
              "    </tr>\n",
              "    <tr>\n",
              "      <th>open_acc</th>\n",
              "      <td>7</td>\n",
              "      <td>29</td>\n",
              "      <td>0.0</td>\n",
              "      <td>36</td>\n",
              "      <td>0.0</td>\n",
              "      <td>float64</td>\n",
              "    </tr>\n",
              "    <tr>\n",
              "      <th>total_acc</th>\n",
              "      <td>0</td>\n",
              "      <td>29</td>\n",
              "      <td>0.0</td>\n",
              "      <td>29</td>\n",
              "      <td>0.0</td>\n",
              "      <td>float64</td>\n",
              "    </tr>\n",
              "    <tr>\n",
              "      <th>inq_last_6mths</th>\n",
              "      <td>241498</td>\n",
              "      <td>29</td>\n",
              "      <td>0.0</td>\n",
              "      <td>241527</td>\n",
              "      <td>51.8</td>\n",
              "      <td>float64</td>\n",
              "    </tr>\n",
              "    <tr>\n",
              "      <th>earliest_cr_line</th>\n",
              "      <td>0</td>\n",
              "      <td>29</td>\n",
              "      <td>0.0</td>\n",
              "      <td>29</td>\n",
              "      <td>0.0</td>\n",
              "      <td>object</td>\n",
              "    </tr>\n",
              "    <tr>\n",
              "      <th>delinq_2yrs</th>\n",
              "      <td>382954</td>\n",
              "      <td>29</td>\n",
              "      <td>0.0</td>\n",
              "      <td>382983</td>\n",
              "      <td>82.1</td>\n",
              "      <td>float64</td>\n",
              "    </tr>\n",
              "    <tr>\n",
              "      <th>acc_now_delinq</th>\n",
              "      <td>464524</td>\n",
              "      <td>29</td>\n",
              "      <td>0.0</td>\n",
              "      <td>464553</td>\n",
              "      <td>99.6</td>\n",
              "      <td>float64</td>\n",
              "    </tr>\n",
              "    <tr>\n",
              "      <th>pub_rec</th>\n",
              "      <td>404893</td>\n",
              "      <td>29</td>\n",
              "      <td>0.0</td>\n",
              "      <td>404922</td>\n",
              "      <td>86.8</td>\n",
              "      <td>float64</td>\n",
              "    </tr>\n",
              "    <tr>\n",
              "      <th>title</th>\n",
              "      <td>0</td>\n",
              "      <td>20</td>\n",
              "      <td>0.0</td>\n",
              "      <td>20</td>\n",
              "      <td>0.0</td>\n",
              "      <td>object</td>\n",
              "    </tr>\n",
              "    <tr>\n",
              "      <th>annual_inc</th>\n",
              "      <td>0</td>\n",
              "      <td>4</td>\n",
              "      <td>0.0</td>\n",
              "      <td>4</td>\n",
              "      <td>0.0</td>\n",
              "      <td>float64</td>\n",
              "    </tr>\n",
              "  </tbody>\n",
              "</table>\n",
              "</div>\n",
              "      <button class=\"colab-df-convert\" onclick=\"convertToInteractive('df-d713b0c8-a170-4fab-bda8-d42eb0cb7b00')\"\n",
              "              title=\"Convert this dataframe to an interactive table.\"\n",
              "              style=\"display:none;\">\n",
              "        \n",
              "  <svg xmlns=\"http://www.w3.org/2000/svg\" height=\"24px\"viewBox=\"0 0 24 24\"\n",
              "       width=\"24px\">\n",
              "    <path d=\"M0 0h24v24H0V0z\" fill=\"none\"/>\n",
              "    <path d=\"M18.56 5.44l.94 2.06.94-2.06 2.06-.94-2.06-.94-.94-2.06-.94 2.06-2.06.94zm-11 1L8.5 8.5l.94-2.06 2.06-.94-2.06-.94L8.5 2.5l-.94 2.06-2.06.94zm10 10l.94 2.06.94-2.06 2.06-.94-2.06-.94-.94-2.06-.94 2.06-2.06.94z\"/><path d=\"M17.41 7.96l-1.37-1.37c-.4-.4-.92-.59-1.43-.59-.52 0-1.04.2-1.43.59L10.3 9.45l-7.72 7.72c-.78.78-.78 2.05 0 2.83L4 21.41c.39.39.9.59 1.41.59.51 0 1.02-.2 1.41-.59l7.78-7.78 2.81-2.81c.8-.78.8-2.07 0-2.86zM5.41 20L4 18.59l7.72-7.72 1.47 1.35L5.41 20z\"/>\n",
              "  </svg>\n",
              "      </button>\n",
              "      \n",
              "  <style>\n",
              "    .colab-df-container {\n",
              "      display:flex;\n",
              "      flex-wrap:wrap;\n",
              "      gap: 12px;\n",
              "    }\n",
              "\n",
              "    .colab-df-convert {\n",
              "      background-color: #E8F0FE;\n",
              "      border: none;\n",
              "      border-radius: 50%;\n",
              "      cursor: pointer;\n",
              "      display: none;\n",
              "      fill: #1967D2;\n",
              "      height: 32px;\n",
              "      padding: 0 0 0 0;\n",
              "      width: 32px;\n",
              "    }\n",
              "\n",
              "    .colab-df-convert:hover {\n",
              "      background-color: #E2EBFA;\n",
              "      box-shadow: 0px 1px 2px rgba(60, 64, 67, 0.3), 0px 1px 3px 1px rgba(60, 64, 67, 0.15);\n",
              "      fill: #174EA6;\n",
              "    }\n",
              "\n",
              "    [theme=dark] .colab-df-convert {\n",
              "      background-color: #3B4455;\n",
              "      fill: #D2E3FC;\n",
              "    }\n",
              "\n",
              "    [theme=dark] .colab-df-convert:hover {\n",
              "      background-color: #434B5C;\n",
              "      box-shadow: 0px 1px 3px 1px rgba(0, 0, 0, 0.15);\n",
              "      filter: drop-shadow(0px 1px 2px rgba(0, 0, 0, 0.3));\n",
              "      fill: #FFFFFF;\n",
              "    }\n",
              "  </style>\n",
              "\n",
              "      <script>\n",
              "        const buttonEl =\n",
              "          document.querySelector('#df-d713b0c8-a170-4fab-bda8-d42eb0cb7b00 button.colab-df-convert');\n",
              "        buttonEl.style.display =\n",
              "          google.colab.kernel.accessAllowed ? 'block' : 'none';\n",
              "\n",
              "        async function convertToInteractive(key) {\n",
              "          const element = document.querySelector('#df-d713b0c8-a170-4fab-bda8-d42eb0cb7b00');\n",
              "          const dataTable =\n",
              "            await google.colab.kernel.invokeFunction('convertToInteractive',\n",
              "                                                     [key], {});\n",
              "          if (!dataTable) return;\n",
              "\n",
              "          const docLinkHtml = 'Like what you see? Visit the ' +\n",
              "            '<a target=\"_blank\" href=https://colab.research.google.com/notebooks/data_table.ipynb>data table notebook</a>'\n",
              "            + ' to learn more about interactive tables.';\n",
              "          element.innerHTML = '';\n",
              "          dataTable['output_type'] = 'display_data';\n",
              "          await google.colab.output.renderOutput(dataTable, element);\n",
              "          const docLink = document.createElement('div');\n",
              "          docLink.innerHTML = docLinkHtml;\n",
              "          element.appendChild(docLink);\n",
              "        }\n",
              "      </script>\n",
              "    </div>\n",
              "  </div>\n",
              "  "
            ]
          },
          "metadata": {},
          "execution_count": 99
        }
      ]
    },
    {
      "cell_type": "code",
      "source": [
        "# miss_table[miss_table['% Total Zero + Missing Values'] > 15]\n",
        "miss_table.drop(miss_table[(miss_table['% Total Zero + Missing Values'] < 15)].index, inplace=True)\n",
        "feature_to_drop = list(miss_table.index.values)"
      ],
      "metadata": {
        "id": "uL4U8F9b-W9W"
      },
      "execution_count": 100,
      "outputs": []
    },
    {
      "cell_type": "code",
      "source": [
        "df.drop(columns=feature_to_drop, axis=1, inplace=True)"
      ],
      "metadata": {
        "id": "lV5zabvaD6r2"
      },
      "execution_count": 101,
      "outputs": []
    },
    {
      "cell_type": "code",
      "source": [
        "df.shape"
      ],
      "metadata": {
        "colab": {
          "base_uri": "https://localhost:8080/"
        },
        "id": "MG8SSWvOEXXy",
        "outputId": "5ede6dff-e9c0-4811-bbbd-6efbc3721ba7"
      },
      "execution_count": 102,
      "outputs": [
        {
          "output_type": "execute_result",
          "data": {
            "text/plain": [
              "(466285, 44)"
            ]
          },
          "metadata": {},
          "execution_count": 102
        }
      ]
    },
    {
      "cell_type": "code",
      "source": [
        "df.isnull().sum().sort_values(ascending=False)"
      ],
      "metadata": {
        "colab": {
          "base_uri": "https://localhost:8080/"
        },
        "id": "S93sbZtpqlzY",
        "outputId": "67332221-b21f-4181-d50c-4902e3a9307a"
      },
      "execution_count": 103,
      "outputs": [
        {
          "output_type": "execute_result",
          "data": {
            "text/plain": [
              "emp_title                  27588\n",
              "emp_length                 21008\n",
              "last_pymnt_d                 376\n",
              "revol_util                   340\n",
              "last_credit_pull_d            42\n",
              "open_acc                      29\n",
              "total_acc                     29\n",
              "earliest_cr_line              29\n",
              "title                         20\n",
              "annual_inc                     4\n",
              "total_pymnt                    0\n",
              "revol_bal                      0\n",
              "initial_list_status            0\n",
              "out_prncp                      0\n",
              "out_prncp_inv                  0\n",
              "id                             0\n",
              "total_pymnt_inv                0\n",
              "total_rec_int                  0\n",
              "total_rec_late_fee             0\n",
              "recoveries                     0\n",
              "collection_recovery_fee        0\n",
              "last_pymnt_amnt                0\n",
              "policy_code                    0\n",
              "total_rec_prncp                0\n",
              "addr_state                     0\n",
              "dti                            0\n",
              "sub_grade                      0\n",
              "loan_amnt                      0\n",
              "funded_amnt                    0\n",
              "funded_amnt_inv                0\n",
              "term                           0\n",
              "int_rate                       0\n",
              "installment                    0\n",
              "grade                          0\n",
              "home_ownership                 0\n",
              "member_id                      0\n",
              "verification_status            0\n",
              "issue_d                        0\n",
              "loan_status                    0\n",
              "pymnt_plan                     0\n",
              "url                            0\n",
              "purpose                        0\n",
              "zip_code                       0\n",
              "application_type               0\n",
              "dtype: int64"
            ]
          },
          "metadata": {},
          "execution_count": 103
        }
      ]
    },
    {
      "cell_type": "markdown",
      "source": [
        "**A.2. Remove Meaningless Features**"
      ],
      "metadata": {
        "id": "kAQf7VqeJVKu"
      }
    },
    {
      "cell_type": "code",
      "source": [
        "for col in df.columns:\n",
        "  print('---', col, '---')\n",
        "  c = df[col].value_counts(dropna=False)\n",
        "  p = df[col].value_counts(dropna=False, normalize=True)\n",
        "  print(pd.concat([c,p], axis=1, keys=['counts', '%']))\n",
        "  print('-----')"
      ],
      "metadata": {
        "colab": {
          "base_uri": "https://localhost:8080/"
        },
        "id": "aNsmMp8WIoaw",
        "outputId": "a38a7141-8300-4593-933e-27aa593fdd06"
      },
      "execution_count": 104,
      "outputs": [
        {
          "output_type": "stream",
          "name": "stdout",
          "text": [
            "--- id ---\n",
            "          counts         %\n",
            "1077501        1  0.000002\n",
            "26180404       1  0.000002\n",
            "26219322       1  0.000002\n",
            "26239577       1  0.000002\n",
            "26290537       1  0.000002\n",
            "...          ...       ...\n",
            "3714715        1  0.000002\n",
            "3703738        1  0.000002\n",
            "3731030        1  0.000002\n",
            "3705772        1  0.000002\n",
            "9199665        1  0.000002\n",
            "\n",
            "[466285 rows x 2 columns]\n",
            "-----\n",
            "--- member_id ---\n",
            "          counts         %\n",
            "1296599        1  0.000002\n",
            "28653081       1  0.000002\n",
            "28692177       1  0.000002\n",
            "28702376       1  0.000002\n",
            "28763241       1  0.000002\n",
            "...          ...       ...\n",
            "4686866        1  0.000002\n",
            "4847180        1  0.000002\n",
            "4724047        1  0.000002\n",
            "4678105        1  0.000002\n",
            "11061576       1  0.000002\n",
            "\n",
            "[466285 rows x 2 columns]\n",
            "-----\n",
            "--- loan_amnt ---\n",
            "       counts         %\n",
            "10000   33023  0.070821\n",
            "12000   25519  0.054728\n",
            "15000   23486  0.050368\n",
            "20000   22759  0.048809\n",
            "35000   16596  0.035592\n",
            "...       ...       ...\n",
            "34250       1  0.000002\n",
            "33400       1  0.000002\n",
            "32150       1  0.000002\n",
            "34325       1  0.000002\n",
            "33175       1  0.000002\n",
            "\n",
            "[1352 rows x 2 columns]\n",
            "-----\n",
            "--- funded_amnt ---\n",
            "       counts         %\n",
            "10000   32930  0.070622\n",
            "12000   25426  0.054529\n",
            "15000   23370  0.050120\n",
            "20000   22571  0.048406\n",
            "35000   16458  0.035296\n",
            "...       ...       ...\n",
            "34075       1  0.000002\n",
            "31475       1  0.000002\n",
            "33400       1  0.000002\n",
            "34825       1  0.000002\n",
            "34775       1  0.000002\n",
            "\n",
            "[1354 rows x 2 columns]\n",
            "-----\n",
            "--- funded_amnt_inv ---\n",
            "              counts         %\n",
            "10000.000000   28683  0.061514\n",
            "12000.000000   21732  0.046607\n",
            "15000.000000   19473  0.041762\n",
            "20000.000000   18070  0.038753\n",
            "8000.000000    13232  0.028377\n",
            "...              ...       ...\n",
            "13274.512610       1  0.000002\n",
            "9418.065777        1  0.000002\n",
            "6493.646238        1  0.000002\n",
            "3184.702704        1  0.000002\n",
            "23750.235520       1  0.000002\n",
            "\n",
            "[9854 rows x 2 columns]\n",
            "-----\n",
            "--- term ---\n",
            "            counts         %\n",
            " 36 months  337953  0.724778\n",
            " 60 months  128332  0.275222\n",
            "-----\n",
            "--- int_rate ---\n",
            "       counts         %\n",
            "12.99   15846  0.033984\n",
            "10.99   14837  0.031820\n",
            "15.61   13074  0.028039\n",
            "8.90    11424  0.024500\n",
            "16.29   10587  0.022705\n",
            "...       ...       ...\n",
            "24.40       1  0.000002\n",
            "16.83       1  0.000002\n",
            "17.78       1  0.000002\n",
            "24.59       1  0.000002\n",
            "18.72       1  0.000002\n",
            "\n",
            "[506 rows x 2 columns]\n",
            "-----\n",
            "--- installment ---\n",
            "        counts         %\n",
            "327.34    1246  0.002672\n",
            "336.90    1191  0.002554\n",
            "332.10     978  0.002097\n",
            "491.01     881  0.001889\n",
            "392.81     855  0.001834\n",
            "...        ...       ...\n",
            "73.19        1  0.000002\n",
            "121.53       1  0.000002\n",
            "776.65       1  0.000002\n",
            "311.25       1  0.000002\n",
            "217.65       1  0.000002\n",
            "\n",
            "[55622 rows x 2 columns]\n",
            "-----\n",
            "--- grade ---\n",
            "   counts         %\n",
            "B  136929  0.293659\n",
            "C  125293  0.268705\n",
            "D   76888  0.164895\n",
            "A   74867  0.160561\n",
            "E   35757  0.076685\n",
            "F   13229  0.028371\n",
            "G    3322  0.007124\n",
            "-----\n",
            "--- sub_grade ---\n",
            "    counts         %\n",
            "B3   31686  0.067954\n",
            "B4   30505  0.065421\n",
            "C1   26953  0.057804\n",
            "C2   26740  0.057347\n",
            "B2   26610  0.057068\n",
            "C3   25317  0.054295\n",
            "B5   25252  0.054156\n",
            "C4   24105  0.051696\n",
            "B1   22876  0.049060\n",
            "C5   22178  0.047563\n",
            "A5   21757  0.046660\n",
            "D1   19261  0.041307\n",
            "A4   19045  0.040844\n",
            "D2   17046  0.036557\n",
            "D3   14916  0.031989\n",
            "D4   14099  0.030237\n",
            "A3   12568  0.026953\n",
            "D5   11566  0.024805\n",
            "A2   10956  0.023496\n",
            "A1   10541  0.022606\n",
            "E1    9033  0.019372\n",
            "E2    8669  0.018592\n",
            "E3    6976  0.014961\n",
            "E4    5992  0.012851\n",
            "E5    5087  0.010910\n",
            "F1    3940  0.008450\n",
            "F2    3001  0.006436\n",
            "F3    2708  0.005808\n",
            "F4    2067  0.004433\n",
            "F5    1513  0.003245\n",
            "G1    1109  0.002378\n",
            "G2     823  0.001765\n",
            "G3     583  0.001250\n",
            "G4     422  0.000905\n",
            "G5     385  0.000826\n",
            "-----\n",
            "--- emp_title ---\n",
            "                                   counts         %\n",
            "NaN                                 27588  0.059166\n",
            "Teacher                              5399  0.011579\n",
            "Manager                              4438  0.009518\n",
            "Registered Nurse                     2316  0.004967\n",
            "RN                                   2204  0.004727\n",
            "...                                   ...       ...\n",
            "SEA Group, llc                          1  0.000002\n",
            "The Eastern Arizona AHEC                1  0.000002\n",
            "Delaware Quarries.com                   1  0.000002\n",
            "McCauley trucking and warehousing       1  0.000002\n",
            "Server Engineer Lead                    1  0.000002\n",
            "\n",
            "[205476 rows x 2 columns]\n",
            "-----\n",
            "--- emp_length ---\n",
            "           counts         %\n",
            "10+ years  150049  0.321797\n",
            "2 years     41373  0.088729\n",
            "3 years     36596  0.078484\n",
            "< 1 year    36265  0.077774\n",
            "5 years     30774  0.065998\n",
            "1 year      29622  0.063528\n",
            "4 years     28023  0.060098\n",
            "7 years     26180  0.056146\n",
            "6 years     26112  0.056000\n",
            "8 years     22395  0.048029\n",
            "NaN         21008  0.045054\n",
            "9 years     17888  0.038363\n",
            "-----\n",
            "--- home_ownership ---\n",
            "          counts         %\n",
            "MORTGAGE  235875  0.505860\n",
            "RENT      188473  0.404201\n",
            "OWN        41704  0.089439\n",
            "OTHER        182  0.000390\n",
            "NONE          50  0.000107\n",
            "ANY            1  0.000002\n",
            "-----\n",
            "--- annual_inc ---\n",
            "          counts         %\n",
            "60000.0    17980  0.038560\n",
            "50000.0    15949  0.034204\n",
            "65000.0    13211  0.028332\n",
            "40000.0    12864  0.027588\n",
            "70000.0    12436  0.026670\n",
            "...          ...       ...\n",
            "93548.0        1  0.000002\n",
            "80840.0        1  0.000002\n",
            "257100.0       1  0.000002\n",
            "91660.0        1  0.000002\n",
            "72787.0        1  0.000002\n",
            "\n",
            "[31902 rows x 2 columns]\n",
            "-----\n",
            "--- verification_status ---\n",
            "                 counts         %\n",
            "Verified         168055  0.360413\n",
            "Source Verified  149993  0.321677\n",
            "Not Verified     148237  0.317911\n",
            "-----\n",
            "--- issue_d ---\n",
            "        counts         %\n",
            "Oct-14   38782  0.083172\n",
            "Jul-14   29306  0.062850\n",
            "Nov-14   25054  0.053731\n",
            "May-14   19099  0.040960\n",
            "Apr-14   19071  0.040900\n",
            "...        ...       ...\n",
            "Aug-07      74  0.000159\n",
            "Jul-07      63  0.000135\n",
            "Sep-08      57  0.000122\n",
            "Sep-07      53  0.000114\n",
            "Jun-07      24  0.000051\n",
            "\n",
            "[91 rows x 2 columns]\n",
            "-----\n",
            "--- loan_status ---\n",
            "                                                    counts         %\n",
            "Current                                             224226  0.480878\n",
            "Fully Paid                                          184739  0.396193\n",
            "Charged Off                                          42475  0.091092\n",
            "Late (31-120 days)                                    6900  0.014798\n",
            "In Grace Period                                       3146  0.006747\n",
            "Does not meet the credit policy. Status:Fully Paid    1988  0.004263\n",
            "Late (16-30 days)                                     1218  0.002612\n",
            "Default                                                832  0.001784\n",
            "Does not meet the credit policy. Status:Charged...     761  0.001632\n",
            "-----\n",
            "--- pymnt_plan ---\n",
            "   counts         %\n",
            "n  466276  0.999981\n",
            "y       9  0.000019\n",
            "-----\n",
            "--- url ---\n",
            "                                                    counts         %\n",
            "https://www.lendingclub.com/browse/loanDetail.a...       1  0.000002\n",
            "https://www.lendingclub.com/browse/loanDetail.a...       1  0.000002\n",
            "https://www.lendingclub.com/browse/loanDetail.a...       1  0.000002\n",
            "https://www.lendingclub.com/browse/loanDetail.a...       1  0.000002\n",
            "https://www.lendingclub.com/browse/loanDetail.a...       1  0.000002\n",
            "...                                                    ...       ...\n",
            "https://www.lendingclub.com/browse/loanDetail.a...       1  0.000002\n",
            "https://www.lendingclub.com/browse/loanDetail.a...       1  0.000002\n",
            "https://www.lendingclub.com/browse/loanDetail.a...       1  0.000002\n",
            "https://www.lendingclub.com/browse/loanDetail.a...       1  0.000002\n",
            "https://www.lendingclub.com/browse/loanDetail.a...       1  0.000002\n",
            "\n",
            "[466285 rows x 2 columns]\n",
            "-----\n",
            "--- purpose ---\n",
            "                    counts         %\n",
            "debt_consolidation  274195  0.588042\n",
            "credit_card         104157  0.223376\n",
            "home_improvement     26537  0.056912\n",
            "other                23690  0.050806\n",
            "major_purchase        9828  0.021077\n",
            "small_business        7013  0.015040\n",
            "car                   5397  0.011574\n",
            "medical               4602  0.009870\n",
            "moving                2994  0.006421\n",
            "vacation              2487  0.005334\n",
            "wedding               2343  0.005025\n",
            "house                 2269  0.004866\n",
            "educational            422  0.000905\n",
            "renewable_energy       351  0.000753\n",
            "-----\n",
            "--- title ---\n",
            "                                   counts         %\n",
            "Debt consolidation                 164075  0.351877\n",
            "Credit card refinancing             62275  0.133556\n",
            "Debt Consolidation                  15760  0.033799\n",
            "Home improvement                    14849  0.031845\n",
            "Other                               12713  0.027264\n",
            "...                                   ...       ...\n",
            "Credit Card Clearance                   1  0.000002\n",
            "credit repayment                        1  0.000002\n",
            "medical bills/credit card payoff        1  0.000002\n",
            "One Time Only Relief!                   1  0.000002\n",
            "Paying off the car and some bills       1  0.000002\n",
            "\n",
            "[63100 rows x 2 columns]\n",
            "-----\n",
            "--- zip_code ---\n",
            "       counts         %\n",
            "945xx    5304  0.011375\n",
            "112xx    5102  0.010942\n",
            "750xx    5013  0.010751\n",
            "606xx    4696  0.010071\n",
            "100xx    4391  0.009417\n",
            "...       ...       ...\n",
            "204xx       1  0.000002\n",
            "502xx       1  0.000002\n",
            "514xx       1  0.000002\n",
            "049xx       1  0.000002\n",
            "901xx       1  0.000002\n",
            "\n",
            "[888 rows x 2 columns]\n",
            "-----\n",
            "--- addr_state ---\n",
            "    counts         %\n",
            "CA   71450  0.153232\n",
            "NY   40242  0.086303\n",
            "TX   36439  0.078147\n",
            "FL   31637  0.067849\n",
            "IL   18612  0.039916\n",
            "NJ   18061  0.038734\n",
            "PA   16424  0.035223\n",
            "OH   15237  0.032677\n",
            "GA   14975  0.032116\n",
            "VA   14222  0.030501\n",
            "NC   12682  0.027198\n",
            "MI   11549  0.024768\n",
            "MA   11072  0.023745\n",
            "MD   10974  0.023535\n",
            "AZ   10712  0.022973\n",
            "WA   10517  0.022555\n",
            "CO    9739  0.020886\n",
            "MN    8158  0.017496\n",
            "MO    7508  0.016102\n",
            "CT    7204  0.015450\n",
            "IN    6525  0.013994\n",
            "NV    6519  0.013981\n",
            "TN    5984  0.012833\n",
            "OR    5949  0.012758\n",
            "WI    5911  0.012677\n",
            "AL    5853  0.012552\n",
            "SC    5583  0.011973\n",
            "LA    5489  0.011772\n",
            "KY    4438  0.009518\n",
            "KS    4190  0.008986\n",
            "OK    4117  0.008829\n",
            "AR    3488  0.007480\n",
            "UT    3428  0.007352\n",
            "NM    2588  0.005550\n",
            "HI    2487  0.005334\n",
            "WV    2412  0.005173\n",
            "NH    2232  0.004787\n",
            "RI    2050  0.004396\n",
            "DC    1426  0.003058\n",
            "MT    1396  0.002994\n",
            "DE    1272  0.002728\n",
            "AK    1251  0.002683\n",
            "MS    1226  0.002629\n",
            "WY    1128  0.002419\n",
            "SD     980  0.002102\n",
            "VT     905  0.001941\n",
            "IA      14  0.000030\n",
            "NE      14  0.000030\n",
            "ID      12  0.000026\n",
            "ME       4  0.000009\n",
            "-----\n",
            "--- dti ---\n",
            "       counts         %\n",
            "14.40     410  0.000879\n",
            "19.20     381  0.000817\n",
            "12.00     369  0.000791\n",
            "16.80     368  0.000789\n",
            "18.00     365  0.000783\n",
            "...       ...       ...\n",
            "37.51       2  0.000004\n",
            "39.94       1  0.000002\n",
            "38.95       1  0.000002\n",
            "35.54       1  0.000002\n",
            "39.14       1  0.000002\n",
            "\n",
            "[3997 rows x 2 columns]\n",
            "-----\n",
            "--- earliest_cr_line ---\n",
            "        counts         %\n",
            "Oct-00    3674  0.007879\n",
            "Aug-00    3597  0.007714\n",
            "Aug-01    3455  0.007410\n",
            "Oct-99    3406  0.007305\n",
            "Oct-01    3329  0.007139\n",
            "...        ...       ...\n",
            "Jul-55       1  0.000002\n",
            "Feb-57       1  0.000002\n",
            "Oct-54       1  0.000002\n",
            "May-53       1  0.000002\n",
            "Nov-56       1  0.000002\n",
            "\n",
            "[665 rows x 2 columns]\n",
            "-----\n",
            "--- open_acc ---\n",
            "      counts         %\n",
            "9.0    44019  0.094404\n",
            "10.0   42512  0.091172\n",
            "8.0    41893  0.089844\n",
            "11.0   39112  0.083880\n",
            "7.0    37602  0.080642\n",
            "...      ...       ...\n",
            "55.0       2  0.000004\n",
            "62.0       1  0.000002\n",
            "84.0       1  0.000002\n",
            "75.0       1  0.000002\n",
            "61.0       1  0.000002\n",
            "\n",
            "[63 rows x 2 columns]\n",
            "-----\n",
            "--- revol_bal ---\n",
            "        counts         %\n",
            "0         2269  0.004866\n",
            "6052        40  0.000086\n",
            "8696        39  0.000084\n",
            "5896        39  0.000084\n",
            "4532        39  0.000084\n",
            "...        ...       ...\n",
            "51021        1  0.000002\n",
            "38032        1  0.000002\n",
            "45601        1  0.000002\n",
            "40823        1  0.000002\n",
            "119663       1  0.000002\n",
            "\n",
            "[58142 rows x 2 columns]\n",
            "-----\n",
            "--- revol_util ---\n",
            "        counts         %\n",
            "0.00      2284  0.004898\n",
            "58.00      864  0.001853\n",
            "53.00      850  0.001823\n",
            "59.00      845  0.001812\n",
            "61.00      832  0.001784\n",
            "...        ...       ...\n",
            "70.26        1  0.000002\n",
            "58.77        1  0.000002\n",
            "8.49         1  0.000002\n",
            "88.48        1  0.000002\n",
            "141.80       1  0.000002\n",
            "\n",
            "[1270 rows x 2 columns]\n",
            "-----\n",
            "--- total_acc ---\n",
            "       counts         %\n",
            "21.0    17087  0.036645\n",
            "20.0    17073  0.036615\n",
            "22.0    17028  0.036518\n",
            "23.0    16719  0.035856\n",
            "19.0    16709  0.035834\n",
            "...       ...       ...\n",
            "106.0       1  0.000002\n",
            "156.0       1  0.000002\n",
            "101.0       1  0.000002\n",
            "96.0        1  0.000002\n",
            "118.0       1  0.000002\n",
            "\n",
            "[113 rows x 2 columns]\n",
            "-----\n",
            "--- initial_list_status ---\n",
            "   counts         %\n",
            "f  303005  0.649828\n",
            "w  163280  0.350172\n",
            "-----\n",
            "--- out_prncp ---\n",
            "          counts         %\n",
            "0.00      229999  0.493258\n",
            "5684.61       80  0.000172\n",
            "6563.61       79  0.000169\n",
            "5617.88       78  0.000167\n",
            "6110.65       76  0.000163\n",
            "...          ...       ...\n",
            "788.62         1  0.000002\n",
            "2656.39        1  0.000002\n",
            "602.44         1  0.000002\n",
            "18067.18       1  0.000002\n",
            "3984.38        1  0.000002\n",
            "\n",
            "[135665 rows x 2 columns]\n",
            "-----\n",
            "--- out_prncp_inv ---\n",
            "          counts         %\n",
            "0.00      229999  0.493258\n",
            "6563.61       78  0.000167\n",
            "5684.61       77  0.000165\n",
            "5617.88       76  0.000163\n",
            "6110.65       75  0.000161\n",
            "...          ...       ...\n",
            "1273.13        1  0.000002\n",
            "16869.63       1  0.000002\n",
            "9541.53        1  0.000002\n",
            "1273.53        1  0.000002\n",
            "3974.41        1  0.000002\n",
            "\n",
            "[141189 rows x 2 columns]\n",
            "-----\n",
            "--- total_pymnt ---\n",
            "              counts         %\n",
            "6743.730000      117  0.000251\n",
            "0.000000          87  0.000187\n",
            "5564.780000       78  0.000167\n",
            "5497.460000       75  0.000161\n",
            "5419.430000       75  0.000161\n",
            "...              ...       ...\n",
            "6307.496889        1  0.000002\n",
            "4271.330000        1  0.000002\n",
            "10706.700000       1  0.000002\n",
            "21385.730000       1  0.000002\n",
            "8821.620000        1  0.000002\n",
            "\n",
            "[351609 rows x 2 columns]\n",
            "-----\n",
            "--- total_pymnt_inv ---\n",
            "          counts         %\n",
            "0.00         365  0.000783\n",
            "6743.73      113  0.000242\n",
            "5564.78       77  0.000165\n",
            "5419.43       73  0.000157\n",
            "5497.46       72  0.000154\n",
            "...          ...       ...\n",
            "7158.22        1  0.000002\n",
            "9651.34        1  0.000002\n",
            "4140.95        1  0.000002\n",
            "24206.64       1  0.000002\n",
            "8799.57        1  0.000002\n",
            "\n",
            "[347659 rows x 2 columns]\n",
            "-----\n",
            "--- total_rec_prncp ---\n",
            "          counts         %\n",
            "10000.00   13267  0.028453\n",
            "12000.00   10469  0.022452\n",
            "15000.00    8552  0.018341\n",
            "20000.00    7673  0.016456\n",
            "8000.00     6522  0.013987\n",
            "...          ...       ...\n",
            "16731.08       1  0.000002\n",
            "3987.47        1  0.000002\n",
            "6927.01        1  0.000002\n",
            "11253.08       1  0.000002\n",
            "6015.62        1  0.000002\n",
            "\n",
            "[172713 rows x 2 columns]\n",
            "-----\n",
            "--- total_rec_int ---\n",
            "         counts         %\n",
            "0.00        379  0.000813\n",
            "1249.39      78  0.000167\n",
            "1329.13      75  0.000161\n",
            "1037.31      74  0.000159\n",
            "1350.99      72  0.000154\n",
            "...         ...       ...\n",
            "5322.44       1  0.000002\n",
            "7909.43       1  0.000002\n",
            "9697.29       1  0.000002\n",
            "3723.50       1  0.000002\n",
            "6072.29       1  0.000002\n",
            "\n",
            "[270249 rows x 2 columns]\n",
            "-----\n",
            "--- total_rec_late_fee ---\n",
            "           counts         %\n",
            "0.000000   455607  0.977100\n",
            "15.000000    2223  0.004767\n",
            "30.000000     285  0.000611\n",
            "45.000000      50  0.000107\n",
            "16.840000      15  0.000032\n",
            "...           ...       ...\n",
            "15.026894       1  0.000002\n",
            "23.190501       1  0.000002\n",
            "14.959976       1  0.000002\n",
            "37.751380       1  0.000002\n",
            "41.150000       1  0.000002\n",
            "\n",
            "[5808 rows x 2 columns]\n",
            "-----\n",
            "--- recoveries ---\n",
            "         counts         %\n",
            "0.00     441914  0.947734\n",
            "14.28         9  0.000019\n",
            "11.70         9  0.000019\n",
            "200.00        9  0.000019\n",
            "10.00         9  0.000019\n",
            "...         ...       ...\n",
            "423.23        1  0.000002\n",
            "2311.77       1  0.000002\n",
            "850.18        1  0.000002\n",
            "5052.98       1  0.000002\n",
            "1159.40       1  0.000002\n",
            "\n",
            "[22773 rows x 2 columns]\n",
            "-----\n",
            "--- collection_recovery_fee ---\n",
            "          counts         %\n",
            "0.0000    443079  0.950232\n",
            "2.0000        18  0.000039\n",
            "1.8000        13  0.000028\n",
            "1.8800        12  0.000026\n",
            "1.2000        12  0.000026\n",
            "...          ...       ...\n",
            "330.4404       1  0.000002\n",
            "149.1210       1  0.000002\n",
            "2.9795         1  0.000002\n",
            "8.8326         1  0.000002\n",
            "11.5940        1  0.000002\n",
            "\n",
            "[20275 rows x 2 columns]\n",
            "-----\n",
            "--- last_pymnt_d ---\n",
            "        counts         %\n",
            "Jan-16  179620  0.385215\n",
            "Dec-15   62000  0.132966\n",
            "Jul-15   11703  0.025098\n",
            "Oct-15   11248  0.024123\n",
            "Sep-15   10204  0.021884\n",
            "...        ...       ...\n",
            "Jun-08      20  0.000043\n",
            "Mar-08      18  0.000039\n",
            "Jan-08      11  0.000024\n",
            "Feb-08       8  0.000017\n",
            "Dec-07       2  0.000004\n",
            "\n",
            "[99 rows x 2 columns]\n",
            "-----\n",
            "--- last_pymnt_amnt ---\n",
            "          counts         %\n",
            "327.34       860  0.001844\n",
            "336.90       828  0.001776\n",
            "332.10       625  0.001340\n",
            "491.01       579  0.001242\n",
            "392.81       567  0.001216\n",
            "...          ...       ...\n",
            "2535.08        1  0.000002\n",
            "6432.03        1  0.000002\n",
            "6705.61        1  0.000002\n",
            "14086.04       1  0.000002\n",
            "1500.68        1  0.000002\n",
            "\n",
            "[198194 rows x 2 columns]\n",
            "-----\n",
            "--- last_credit_pull_d ---\n",
            "        counts         %\n",
            "Jan-16  327699  0.702787\n",
            "Dec-15   13992  0.030007\n",
            "Nov-15    8384  0.017980\n",
            "Sep-15    8051  0.017266\n",
            "Oct-15    7957  0.017065\n",
            "...        ...       ...\n",
            "Nov-07       3  0.000006\n",
            "Jul-08       1  0.000002\n",
            "May-08       1  0.000002\n",
            "Jun-08       1  0.000002\n",
            "Jul-07       1  0.000002\n",
            "\n",
            "[104 rows x 2 columns]\n",
            "-----\n",
            "--- policy_code ---\n",
            "   counts    %\n",
            "1  466285  1.0\n",
            "-----\n",
            "--- application_type ---\n",
            "            counts    %\n",
            "INDIVIDUAL  466285  1.0\n",
            "-----\n"
          ]
        }
      ]
    },
    {
      "cell_type": "code",
      "source": [
        "meaningless_features = ['id','emp_title','url', 'zip_code', 'title', 'sub_grade', 'policy_code', 'application_type', 'member_id', 'last_pymnt_d', 'last_pymnt_amnt',\n",
        "       'last_credit_pull_d', 'earliest_cr_line', 'issue_d']"
      ],
      "metadata": {
        "id": "cWtsX7dPKHqL"
      },
      "execution_count": 105,
      "outputs": []
    },
    {
      "cell_type": "code",
      "source": [
        "df.drop(columns=meaningless_features, axis=1, inplace=True)"
      ],
      "metadata": {
        "id": "sd-o7VhWGpFw"
      },
      "execution_count": 106,
      "outputs": []
    },
    {
      "cell_type": "code",
      "source": [
        "df.shape"
      ],
      "metadata": {
        "colab": {
          "base_uri": "https://localhost:8080/"
        },
        "id": "FGWpI-F0LIp4",
        "outputId": "3f6207cc-086d-447b-9176-a7269c79cab4"
      },
      "execution_count": 107,
      "outputs": [
        {
          "output_type": "execute_result",
          "data": {
            "text/plain": [
              "(466285, 30)"
            ]
          },
          "metadata": {},
          "execution_count": 107
        }
      ]
    },
    {
      "cell_type": "code",
      "source": [
        "df.columns"
      ],
      "metadata": {
        "colab": {
          "base_uri": "https://localhost:8080/"
        },
        "id": "mOSymo7BM0ir",
        "outputId": "8bd7ea17-0102-467c-b8a6-1ba547649572"
      },
      "execution_count": 108,
      "outputs": [
        {
          "output_type": "execute_result",
          "data": {
            "text/plain": [
              "Index(['loan_amnt', 'funded_amnt', 'funded_amnt_inv', 'term', 'int_rate',\n",
              "       'installment', 'grade', 'emp_length', 'home_ownership', 'annual_inc',\n",
              "       'verification_status', 'loan_status', 'pymnt_plan', 'purpose',\n",
              "       'addr_state', 'dti', 'open_acc', 'revol_bal', 'revol_util', 'total_acc',\n",
              "       'initial_list_status', 'out_prncp', 'out_prncp_inv', 'total_pymnt',\n",
              "       'total_pymnt_inv', 'total_rec_prncp', 'total_rec_int',\n",
              "       'total_rec_late_fee', 'recoveries', 'collection_recovery_fee'],\n",
              "      dtype='object')"
            ]
          },
          "metadata": {},
          "execution_count": 108
        }
      ]
    },
    {
      "cell_type": "markdown",
      "source": [
        "**A.3. Handling Target Features**"
      ],
      "metadata": {
        "id": "oTADbP8aFxQo"
      }
    },
    {
      "cell_type": "code",
      "source": [
        "df.loan_status.value_counts()"
      ],
      "metadata": {
        "colab": {
          "base_uri": "https://localhost:8080/"
        },
        "id": "6UDCfZ8Y0iot",
        "outputId": "2898e4b2-e0ea-4647-df12-e5ed6680a5b7"
      },
      "execution_count": 109,
      "outputs": [
        {
          "output_type": "execute_result",
          "data": {
            "text/plain": [
              "Current                                                224226\n",
              "Fully Paid                                             184739\n",
              "Charged Off                                             42475\n",
              "Late (31-120 days)                                       6900\n",
              "In Grace Period                                          3146\n",
              "Does not meet the credit policy. Status:Fully Paid       1988\n",
              "Late (16-30 days)                                        1218\n",
              "Default                                                   832\n",
              "Does not meet the credit policy. Status:Charged Off       761\n",
              "Name: loan_status, dtype: int64"
            ]
          },
          "metadata": {},
          "execution_count": 109
        }
      ]
    },
    {
      "cell_type": "code",
      "source": [
        "df['loan_status'] = df['loan_status'].replace(['Late (31-120 days)', 'Late (16-30 days)', 'Default'], ['Charged Off', 'Charged Off', 'Charged Off'])"
      ],
      "metadata": {
        "id": "8Jp50gUY0oQ9"
      },
      "execution_count": 110,
      "outputs": []
    },
    {
      "cell_type": "code",
      "source": [
        "df = df.loc[df['loan_status'].isin(['Fully Paid', 'Charged Off'])]"
      ],
      "metadata": {
        "id": "qB00W3pP1MXB"
      },
      "execution_count": 111,
      "outputs": []
    },
    {
      "cell_type": "code",
      "source": [
        "df.loan_status.value_counts()"
      ],
      "metadata": {
        "colab": {
          "base_uri": "https://localhost:8080/"
        },
        "id": "KfxYZCtq1r9p",
        "outputId": "e0804ce5-9310-4c70-c6b2-639a15c4c466"
      },
      "execution_count": 112,
      "outputs": [
        {
          "output_type": "execute_result",
          "data": {
            "text/plain": [
              "Fully Paid     184739\n",
              "Charged Off     51425\n",
              "Name: loan_status, dtype: int64"
            ]
          },
          "metadata": {},
          "execution_count": 112
        }
      ]
    },
    {
      "cell_type": "code",
      "source": [
        "df.shape"
      ],
      "metadata": {
        "colab": {
          "base_uri": "https://localhost:8080/"
        },
        "id": "_9kPnfqe1uG5",
        "outputId": "a918848d-a504-493e-cc08-184425c4e092"
      },
      "execution_count": 113,
      "outputs": [
        {
          "output_type": "execute_result",
          "data": {
            "text/plain": [
              "(236164, 30)"
            ]
          },
          "metadata": {},
          "execution_count": 113
        }
      ]
    },
    {
      "cell_type": "markdown",
      "source": [
        "# **B. EDA**"
      ],
      "metadata": {
        "id": "NEW6L0h0112I"
      }
    },
    {
      "cell_type": "code",
      "source": [
        "len(df.loan_status)"
      ],
      "metadata": {
        "colab": {
          "base_uri": "https://localhost:8080/"
        },
        "id": "0IM4vtcY2ohp",
        "outputId": "6ece474d-05ec-4786-c5ab-762bdc9aaec5"
      },
      "execution_count": 114,
      "outputs": [
        {
          "output_type": "execute_result",
          "data": {
            "text/plain": [
              "236164"
            ]
          },
          "metadata": {},
          "execution_count": 114
        }
      ]
    },
    {
      "cell_type": "code",
      "source": [
        "df_eda = df.copy()"
      ],
      "metadata": {
        "id": "t3xelpVEAbTd"
      },
      "execution_count": 115,
      "outputs": []
    },
    {
      "cell_type": "markdown",
      "source": [
        "**with y-axis as count**"
      ],
      "metadata": {
        "id": "Q-KZEZiZAhu2"
      }
    },
    {
      "cell_type": "code",
      "source": [
        "def show_values_on_bars(axs, features):\n",
        "    total = len(features)\n",
        "    def _show_on_single_plot(ax):        \n",
        "        for p in ax.patches:\n",
        "            _x = p.get_x() + p.get_width() / 2\n",
        "            _y = p.get_y() + p.get_height()\n",
        "            value = '{:.2f}%'.format(100 * p.get_height()/total)\n",
        "            ax.text(_x, _y, value, ha=\"center\", va='bottom', size=12) \n",
        "\n",
        "    if isinstance(axs, np.ndarray):\n",
        "        for idx, ax in np.ndenumerate(axs):\n",
        "            _show_on_single_plot(ax)\n",
        "    else:\n",
        "        _show_on_single_plot(axs)"
      ],
      "metadata": {
        "id": "Ti6hU7gRylKi"
      },
      "execution_count": 116,
      "outputs": []
    },
    {
      "cell_type": "code",
      "source": [
        "def with_hue(axs, feature, Number_of_categories, hue_categories):\n",
        "    def _show_on_single_plot2(ax): \n",
        "        all_heights = [[p.get_height() for p in bars] for bars in ax.containers]\n",
        "        for bars in ax.containers:\n",
        "            for i, p in enumerate(bars):\n",
        "                total = sum(xgroup[i] for xgroup in all_heights)\n",
        "                percentage = f'{(100 * p.get_height() / total) :.1f}%'\n",
        "                ax.text(p.get_x() + p.get_width() / 2, p.get_height(), percentage, size=11, ha='center', va='bottom', rotation=45)\n",
        "\n",
        "    if isinstance(axs, np.ndarray):\n",
        "          for idx, ax in np.ndenumerate(axs):\n",
        "              _show_on_single_plot2(ax)\n",
        "    else:\n",
        "          _show_on_single_plot2(axs)\n"
      ],
      "metadata": {
        "id": "FBM3K_q_HBy5"
      },
      "execution_count": 117,
      "outputs": []
    },
    {
      "cell_type": "code",
      "source": [
        "f, axes = plt.subplots(1, 2, figsize=(20,5))\n",
        "sns.countplot(x='loan_status', data=df, ax=axes[0])\n",
        "show_values_on_bars(axes, df.loan_status)\n",
        "\n",
        "sns.countplot(x='grade', hue='loan_status', data=df, order=sorted(df['grade'].unique()), ax=axes[1])\n",
        "with_hue(axes[1], df.grade, 7, 2)\n",
        "\n",
        "sns.despine()\n",
        "axes[0].set(xlabel='Status', ylabel='')\n",
        "axes[0].set_title('% of Loan Status', size=20, pad=30)\n",
        "axes[1].set(xlabel='Grade', ylabel='')\n",
        "axes[1].set_title('% of Loan Status by grade', size=20, pad=30)\n",
        "\n"
      ],
      "metadata": {
        "colab": {
          "base_uri": "https://localhost:8080/",
          "height": 396
        },
        "id": "BMLS9GuH14uL",
        "outputId": "077d3fbb-4366-4e74-e42b-767356161726"
      },
      "execution_count": 118,
      "outputs": [
        {
          "output_type": "execute_result",
          "data": {
            "text/plain": [
              "Text(0.5, 1.0, '% of Loan Status by grade')"
            ]
          },
          "metadata": {},
          "execution_count": 118
        },
        {
          "output_type": "display_data",
          "data": {
            "text/plain": [
              "<Figure size 1440x360 with 2 Axes>"
            ],
            "image/png": "[encoded data removed]"
          },
          "metadata": {
            "needs_background": "light"
          }
        }
      ]
    },
    {
      "cell_type": "code",
      "source": [
        "df['emp_length'] = df['emp_length'].replace(['< 1 year'],['less than 1 y'])"
      ],
      "metadata": {
        "id": "q5UaiCDyUQlL"
      },
      "execution_count": 119,
      "outputs": []
    },
    {
      "cell_type": "code",
      "source": [
        "df['pymnt_plan'].value_counts()"
      ],
      "metadata": {
        "colab": {
          "base_uri": "https://localhost:8080/"
        },
        "id": "okE0nTpT7ipB",
        "outputId": "81d36db8-b95d-41a3-80f4-d5b036f715b0"
      },
      "execution_count": 120,
      "outputs": [
        {
          "output_type": "execute_result",
          "data": {
            "text/plain": [
              "n    236157\n",
              "y         7\n",
              "Name: pymnt_plan, dtype: int64"
            ]
          },
          "metadata": {},
          "execution_count": 120
        }
      ]
    },
    {
      "cell_type": "code",
      "source": [
        "f, axes = plt.subplots(1, 2, figsize=(20,5))\n",
        "sns.countplot(x='term', hue='loan_status', data=df, order=sorted(df['term'].unique()), ax=axes[0])\n",
        "with_hue(axes[0], df.emp_length, 2, 2)\n",
        "\n",
        "sns.countplot(x='emp_length', hue='loan_status', data=df, ax=axes[1])\n",
        "with_hue(axes[1], df.emp_length, 11, 2)\n",
        "\n",
        "sns.despine()\n",
        "axes[0].set(xlabel='Term', ylabel='')\n",
        "axes[0].set_title('% of Loan Status by term', size=20, pad=30)\n",
        "axes[1].set(xlabel='Emp Length', ylabel='')\n",
        "axes[1].set_title('% of Loan Status by emp length', size=20, pad=30)\n",
        "axes[1].tick_params(axis='x', labelrotation = 45)\n",
        "\n"
      ],
      "metadata": {
        "colab": {
          "base_uri": "https://localhost:8080/",
          "height": 421
        },
        "id": "cxQBdf3XS0hc",
        "outputId": "36fbf5dc-d9e5-4df7-c869-a4970595d55f"
      },
      "execution_count": 121,
      "outputs": [
        {
          "output_type": "display_data",
          "data": {
            "text/plain": [
              "<Figure size 1440x360 with 2 Axes>"
            ],
            "image/png": "[encoded data removed]"
          },
          "metadata": {
            "needs_background": "light"
          }
        }
      ]
    },
    {
      "cell_type": "code",
      "source": [
        "f, axes = plt.subplots(1, 2, figsize=(20,5))\n",
        "sns.countplot(x='purpose', data=df, order=df['purpose'].value_counts().index, ax=axes[0])\n",
        "show_values_on_bars(axes[0], df.loan_status)\n",
        "\n",
        "sns.scatterplot(x='installment', y='loan_amnt', data=df, ax=axes[1])\n",
        "\n",
        "sns.despine()\n",
        "axes[0].set(xlabel='Purpose', ylabel='')\n",
        "axes[0].set_title('Count of Loan Purpose', size=20, pad=30)\n",
        "axes[0].tick_params(axis='x', labelrotation = 90)\n",
        "axes[1].set(xlabel='Emp Length', ylabel='')\n",
        "axes[1].set_title('Distribution between Loant Amount and Installment', size=20, pad=30)\n",
        "\n",
        "\n"
      ],
      "metadata": {
        "colab": {
          "base_uri": "https://localhost:8080/",
          "height": 485
        },
        "id": "q1_gJ1fkrCzh",
        "outputId": "7a82f144-3371-42ee-bfb9-f76f9dccf0c8"
      },
      "execution_count": 122,
      "outputs": [
        {
          "output_type": "execute_result",
          "data": {
            "text/plain": [
              "Text(0.5, 1.0, 'Distribution between Loant Amount and Installment')"
            ]
          },
          "metadata": {},
          "execution_count": 122
        },
        {
          "output_type": "display_data",
          "data": {
            "text/plain": [
              "<Figure size 1440x360 with 2 Axes>"
            ],
            "image/png": "[encoded data removed]"
          },
          "metadata": {
            "needs_background": "light"
          }
        }
      ]
    },
    {
      "cell_type": "markdown",
      "source": [
        "**with y-axis as percentage**"
      ],
      "metadata": {
        "id": "8nMCxuOvAoMm"
      }
    },
    {
      "cell_type": "code",
      "source": [
        "f, axes = plt.subplots(1, 2, figsize=(20,5))\n",
        "\n",
        "df_eda['percentage(%)'] = 0 # a dummy column to refer to\n",
        "for col, ax in zip(['grade', 'pymnt_plan'], axes.flatten()):\n",
        "    counts = df_eda.groupby([col, 'loan_status']).count()\n",
        "    freq_per_group = counts.div(counts.groupby(col).transform('sum')).reset_index()\n",
        "    sns.barplot(x=col, y='percentage(%)', hue='loan_status', data=freq_per_group, ax=ax)\n",
        "\n",
        "with_hue(axes[0], df_eda.grade, 7, 2)\n",
        "with_hue(axes[1], df_eda.pymnt_plan, 2, 2)\n",
        "\n",
        "sns.despine()\n",
        "axes[0].set(xlabel='Grade', ylabel='Percentage (%)')\n",
        "axes[0].set_title('% of Loan Status by Grade', size=20, pad=30)\n",
        "axes[1].set(xlabel='Payment Plan', ylabel='Percentage (%)')\n",
        "axes[1].set_title('% of Loan Status by Payment Plan', size=20, pad=30)\n",
        "axes[0].yaxis.set_major_formatter(mtick.PercentFormatter(xmax=1))\n",
        "axes[1].yaxis.set_major_formatter(mtick.PercentFormatter(xmax=1))"
      ],
      "metadata": {
        "colab": {
          "base_uri": "https://localhost:8080/",
          "height": 379
        },
        "id": "SADrNIIdArdf",
        "outputId": "5dc493bc-728f-441b-839f-4890e90a1bc9"
      },
      "execution_count": 123,
      "outputs": [
        {
          "output_type": "display_data",
          "data": {
            "text/plain": [
              "<Figure size 1440x360 with 2 Axes>"
            ],
            "image/png": "[encoded data removed]"
          },
          "metadata": {
            "needs_background": "light"
          }
        }
      ]
    },
    {
      "cell_type": "code",
      "source": [
        "f, axes = plt.subplots(1, 2, figsize=(20,5))\n",
        "\n",
        "df_eda['percentage(%)'] = 0 # a dummy column to refer to\n",
        "for col, ax in zip(['term', 'emp_length'], axes.flatten()):\n",
        "    counts = df_eda.groupby([col, 'loan_status']).count()\n",
        "    freq_per_group = counts.div(counts.groupby(col).transform('sum')).reset_index()\n",
        "    sns.barplot(x=col, y='percentage(%)', hue='loan_status', data=freq_per_group, ax=ax)\n",
        "\n",
        "with_hue(axes[0], df_eda.grade, 7, 2)\n",
        "with_hue(axes[1], df_eda.pymnt_plan, 2, 2)\n",
        "\n",
        "sns.despine()\n",
        "axes[0].set(xlabel='Term', ylabel='Percentage (%)')\n",
        "axes[0].set_title('% of Loan Status by Term', size=20, pad=30)\n",
        "axes[1].set(xlabel='Emp Length', ylabel='Percentage (%)')\n",
        "axes[1].set_title('% of Loan Status by Emp Length', size=20, pad=30)\n",
        "axes[0].yaxis.set_major_formatter(mtick.PercentFormatter(xmax=1))\n",
        "axes[1].yaxis.set_major_formatter(mtick.PercentFormatter(xmax=1))"
      ],
      "metadata": {
        "colab": {
          "base_uri": "https://localhost:8080/",
          "height": 379
        },
        "id": "IBLTRCixJZdI",
        "outputId": "dfac9d22-b1d3-4eff-ac41-db8f44dd517b"
      },
      "execution_count": 124,
      "outputs": [
        {
          "output_type": "display_data",
          "data": {
            "text/plain": [
              "<Figure size 1440x360 with 2 Axes>"
            ],
            "image/png": "[encoded data removed]"
          },
          "metadata": {
            "needs_background": "light"
          }
        }
      ]
    },
    {
      "cell_type": "code",
      "source": [
        "f, axes = plt.subplots(1, 2, figsize=(20,5))\n",
        "\n",
        "sns.histplot(df_eda, x=\"int_rate\", hue=\"loan_status\", element=\"poly\", ax=axes[0])\n",
        "sns.histplot(df_eda, x=\"loan_amnt\", hue=\"loan_status\", element=\"poly\", ax=axes[1])\n",
        "\n",
        "sns.despine()\n",
        "axes[0].set(xlabel='int rate', ylabel='Percentage (%)')\n",
        "axes[0].set_title('% of Loan Status by int rate', size=20, pad=30)\n",
        "axes[1].set(xlabel='loan amount', ylabel='Percentage (%)')\n",
        "axes[1].set_title('% of Loan Status by loan amount', size=20, pad=30)\n",
        "\n",
        "\n"
      ],
      "metadata": {
        "colab": {
          "base_uri": "https://localhost:8080/",
          "height": 396
        },
        "id": "eoySCwj0MkTw",
        "outputId": "61d9fb79-abcc-422f-b4c3-eee310078dc6"
      },
      "execution_count": 125,
      "outputs": [
        {
          "output_type": "execute_result",
          "data": {
            "text/plain": [
              "Text(0.5, 1.0, '% of Loan Status by loan amount')"
            ]
          },
          "metadata": {},
          "execution_count": 125
        },
        {
          "output_type": "display_data",
          "data": {
            "text/plain": [
              "<Figure size 1440x360 with 2 Axes>"
            ],
            "image/png": "[encoded data removed]"
          },
          "metadata": {
            "needs_background": "light"
          }
        }
      ]
    },
    {
      "cell_type": "markdown",
      "source": [
        "\n",
        "# **C. Features Engineering**"
      ],
      "metadata": {
        "id": "Dx6j4lOJ05iV"
      }
    },
    {
      "cell_type": "code",
      "source": [
        "df_model = df.copy()"
      ],
      "metadata": {
        "id": "ymWltDWU1vvJ"
      },
      "execution_count": 126,
      "outputs": []
    },
    {
      "cell_type": "markdown",
      "source": [
        "**C. 1. Handling Categorical Features**"
      ],
      "metadata": {
        "id": "AwexPqaJ3mS8"
      }
    },
    {
      "cell_type": "code",
      "source": [
        "categorical_col = list(df_model.select_dtypes(include=[\"object\"]).columns)\n",
        "categorical_col"
      ],
      "metadata": {
        "colab": {
          "base_uri": "https://localhost:8080/"
        },
        "id": "lXRlHzjA09Z4",
        "outputId": "5b7cc4b5-a3a0-4bc3-e8ab-29551959519d"
      },
      "execution_count": 127,
      "outputs": [
        {
          "output_type": "execute_result",
          "data": {
            "text/plain": [
              "['term',\n",
              " 'grade',\n",
              " 'emp_length',\n",
              " 'home_ownership',\n",
              " 'verification_status',\n",
              " 'loan_status',\n",
              " 'pymnt_plan',\n",
              " 'purpose',\n",
              " 'addr_state',\n",
              " 'initial_list_status']"
            ]
          },
          "metadata": {},
          "execution_count": 127
        }
      ]
    },
    {
      "cell_type": "markdown",
      "source": [
        "Fill missing value with mode"
      ],
      "metadata": {
        "id": "GN6gm2uy4qrC"
      }
    },
    {
      "cell_type": "code",
      "source": [
        "df_model[categorical_col].isnull().sum().sort_values(ascending=False)"
      ],
      "metadata": {
        "colab": {
          "base_uri": "https://localhost:8080/"
        },
        "id": "fZq3myBQ4ZVs",
        "outputId": "883a7e52-edb1-4311-82bd-6cc36223970b"
      },
      "execution_count": 128,
      "outputs": [
        {
          "output_type": "execute_result",
          "data": {
            "text/plain": [
              "emp_length             9191\n",
              "term                      0\n",
              "grade                     0\n",
              "home_ownership            0\n",
              "verification_status       0\n",
              "loan_status               0\n",
              "pymnt_plan                0\n",
              "purpose                   0\n",
              "addr_state                0\n",
              "initial_list_status       0\n",
              "dtype: int64"
            ]
          },
          "metadata": {},
          "execution_count": 128
        }
      ]
    },
    {
      "cell_type": "code",
      "source": [
        "df_model['emp_length'] = df_model['emp_length'].fillna(df_model['emp_length'].mode()[0])"
      ],
      "metadata": {
        "id": "g1_am-fJ4t8o"
      },
      "execution_count": 129,
      "outputs": []
    },
    {
      "cell_type": "code",
      "source": [
        "df_model[categorical_col].isnull().sum().sort_values(ascending=False)"
      ],
      "metadata": {
        "colab": {
          "base_uri": "https://localhost:8080/"
        },
        "id": "EV6rsbkd5E37",
        "outputId": "26050e62-98ea-4553-bf8c-67ac370f1d3f"
      },
      "execution_count": 130,
      "outputs": [
        {
          "output_type": "execute_result",
          "data": {
            "text/plain": [
              "term                   0\n",
              "grade                  0\n",
              "emp_length             0\n",
              "home_ownership         0\n",
              "verification_status    0\n",
              "loan_status            0\n",
              "pymnt_plan             0\n",
              "purpose                0\n",
              "addr_state             0\n",
              "initial_list_status    0\n",
              "dtype: int64"
            ]
          },
          "metadata": {},
          "execution_count": 130
        }
      ]
    },
    {
      "cell_type": "markdown",
      "source": [
        "Encoding Features\n",
        "\n",
        "\n",
        "*   One-Hot Encoding\n",
        "*   Label Encoding"
      ],
      "metadata": {
        "id": "vPK_mW2o5He9"
      }
    },
    {
      "cell_type": "code",
      "source": [
        "label_encoder = preprocessing.LabelEncoder()\n",
        "\n",
        "label_enc_features = ['grade', 'emp_length', 'home_ownership']\n",
        "for col in label_enc_features:\n",
        "    df_model[col]= label_encoder.fit_transform(df_model[col])"
      ],
      "metadata": {
        "id": "4GR0ZPm52aAh"
      },
      "execution_count": 131,
      "outputs": []
    },
    {
      "cell_type": "code",
      "source": [
        "df_onehot = pd.get_dummies(df_model[['term']], prefix='term', prefix_sep=\"_\")\n",
        "df_onehot2 = pd.get_dummies(df_model[['verification_status']], prefix=\"verification_status\", prefix_sep=\"_\")\n",
        "df_onehot3 = pd.get_dummies(df_model[['pymnt_plan']], prefix=\"pymnt_plan\", prefix_sep=\"_\")\n",
        "df_onehot4 = pd.get_dummies(df_model[['purpose']], prefix=\"purpose\", prefix_sep=\"_\")\n",
        "df_onehot5 = pd.get_dummies(df_model[['addr_state']], prefix=\"addr_state\", prefix_sep=\"_\")\n",
        "df_onehot6 = pd.get_dummies(df_model[['initial_list_status']], prefix=\"initial_list_status\", prefix_sep=\"_\")\n",
        "\n",
        "df_final_onehot = df_onehot.join([df_onehot2, df_onehot3, df_onehot4, df_onehot5, df_onehot6])"
      ],
      "metadata": {
        "id": "aqRgsa6k86pX"
      },
      "execution_count": 132,
      "outputs": []
    },
    {
      "cell_type": "markdown",
      "source": [
        "**C. 2. Handling Numerical Features**"
      ],
      "metadata": {
        "id": "5yccw3qy-4_i"
      }
    },
    {
      "cell_type": "code",
      "source": [
        "numerical_col = list(df_model.select_dtypes(exclude=[\"object\"]).columns)\n",
        "numerical_col"
      ],
      "metadata": {
        "colab": {
          "base_uri": "https://localhost:8080/"
        },
        "id": "l9WHF4Qi-8Ti",
        "outputId": "d473889b-7791-47d8-8487-ff7bab1fe03a"
      },
      "execution_count": 133,
      "outputs": [
        {
          "output_type": "execute_result",
          "data": {
            "text/plain": [
              "['loan_amnt',\n",
              " 'funded_amnt',\n",
              " 'funded_amnt_inv',\n",
              " 'int_rate',\n",
              " 'installment',\n",
              " 'grade',\n",
              " 'emp_length',\n",
              " 'home_ownership',\n",
              " 'annual_inc',\n",
              " 'dti',\n",
              " 'open_acc',\n",
              " 'revol_bal',\n",
              " 'revol_util',\n",
              " 'total_acc',\n",
              " 'out_prncp',\n",
              " 'out_prncp_inv',\n",
              " 'total_pymnt',\n",
              " 'total_pymnt_inv',\n",
              " 'total_rec_prncp',\n",
              " 'total_rec_int',\n",
              " 'total_rec_late_fee',\n",
              " 'recoveries',\n",
              " 'collection_recovery_fee']"
            ]
          },
          "metadata": {},
          "execution_count": 133
        }
      ]
    },
    {
      "cell_type": "markdown",
      "source": [
        "Filling Missing value with median"
      ],
      "metadata": {
        "id": "8LQnPQzg_jdF"
      }
    },
    {
      "cell_type": "code",
      "source": [
        "df_model[numerical_col].isnull().sum().sort_values(ascending=False)"
      ],
      "metadata": {
        "colab": {
          "base_uri": "https://localhost:8080/"
        },
        "id": "Pwbau0hC_hAI",
        "outputId": "752dd5dc-7555-4159-bed2-24a036cc3c98"
      },
      "execution_count": 134,
      "outputs": [
        {
          "output_type": "execute_result",
          "data": {
            "text/plain": [
              "revol_util                 192\n",
              "loan_amnt                    0\n",
              "recoveries                   0\n",
              "total_rec_late_fee           0\n",
              "total_rec_int                0\n",
              "total_rec_prncp              0\n",
              "total_pymnt_inv              0\n",
              "total_pymnt                  0\n",
              "out_prncp_inv                0\n",
              "out_prncp                    0\n",
              "total_acc                    0\n",
              "revol_bal                    0\n",
              "funded_amnt                  0\n",
              "open_acc                     0\n",
              "dti                          0\n",
              "annual_inc                   0\n",
              "home_ownership               0\n",
              "emp_length                   0\n",
              "grade                        0\n",
              "installment                  0\n",
              "int_rate                     0\n",
              "funded_amnt_inv              0\n",
              "collection_recovery_fee      0\n",
              "dtype: int64"
            ]
          },
          "metadata": {},
          "execution_count": 134
        }
      ]
    },
    {
      "cell_type": "code",
      "source": [
        "median_value = df_model['revol_util'].median()\n",
        "df_model['revol_util'].fillna(value = median_value, inplace = True) "
      ],
      "metadata": {
        "id": "N_jSuMyf_phX"
      },
      "execution_count": 135,
      "outputs": []
    },
    {
      "cell_type": "code",
      "source": [
        "df_model[numerical_col].isnull().sum()"
      ],
      "metadata": {
        "colab": {
          "base_uri": "https://localhost:8080/"
        },
        "id": "HCV7PfIiAFyY",
        "outputId": "f60f0e16-ef37-40c9-94ec-83655e11259f"
      },
      "execution_count": 136,
      "outputs": [
        {
          "output_type": "execute_result",
          "data": {
            "text/plain": [
              "loan_amnt                  0\n",
              "funded_amnt                0\n",
              "funded_amnt_inv            0\n",
              "int_rate                   0\n",
              "installment                0\n",
              "grade                      0\n",
              "emp_length                 0\n",
              "home_ownership             0\n",
              "annual_inc                 0\n",
              "dti                        0\n",
              "open_acc                   0\n",
              "revol_bal                  0\n",
              "revol_util                 0\n",
              "total_acc                  0\n",
              "out_prncp                  0\n",
              "out_prncp_inv              0\n",
              "total_pymnt                0\n",
              "total_pymnt_inv            0\n",
              "total_rec_prncp            0\n",
              "total_rec_int              0\n",
              "total_rec_late_fee         0\n",
              "recoveries                 0\n",
              "collection_recovery_fee    0\n",
              "dtype: int64"
            ]
          },
          "metadata": {},
          "execution_count": 136
        }
      ]
    },
    {
      "cell_type": "code",
      "source": [
        "df_model = df_final_onehot.join(df_model)"
      ],
      "metadata": {
        "id": "lDqM5uhF9BVN"
      },
      "execution_count": 137,
      "outputs": []
    },
    {
      "cell_type": "code",
      "source": [
        "df_model.drop(columns=['term', 'verification_status', 'pymnt_plan', 'purpose', 'addr_state', 'initial_list_status'], inplace=True)"
      ],
      "metadata": {
        "id": "DQZrF3iI-gia"
      },
      "execution_count": 138,
      "outputs": []
    },
    {
      "cell_type": "markdown",
      "source": [
        "**C. 3. Handling Target Features**"
      ],
      "metadata": {
        "id": "GA4fC2KBB-0j"
      }
    },
    {
      "cell_type": "code",
      "source": [
        "df_model['loan_status'].value_counts()"
      ],
      "metadata": {
        "colab": {
          "base_uri": "https://localhost:8080/"
        },
        "id": "haj_IPN9CmtK",
        "outputId": "8c506f9b-5ecc-49f3-c483-46b502486b3c"
      },
      "execution_count": 139,
      "outputs": [
        {
          "output_type": "execute_result",
          "data": {
            "text/plain": [
              "Fully Paid     184739\n",
              "Charged Off     51425\n",
              "Name: loan_status, dtype: int64"
            ]
          },
          "metadata": {},
          "execution_count": 139
        }
      ]
    },
    {
      "cell_type": "code",
      "source": [
        "df_model['loan_status'] = df_model['loan_status'].map({'Fully Paid': 1, 'Charged Off': 0})"
      ],
      "metadata": {
        "id": "NsmqjXm3B95Z"
      },
      "execution_count": 140,
      "outputs": []
    },
    {
      "cell_type": "code",
      "source": [
        "df_model['loan_status'].value_counts()"
      ],
      "metadata": {
        "colab": {
          "base_uri": "https://localhost:8080/"
        },
        "id": "r_njBl_LDysT",
        "outputId": "b90ff4df-4177-4be3-d735-232f5c4fbec8"
      },
      "execution_count": 141,
      "outputs": [
        {
          "output_type": "execute_result",
          "data": {
            "text/plain": [
              "1    184739\n",
              "0     51425\n",
              "Name: loan_status, dtype: int64"
            ]
          },
          "metadata": {},
          "execution_count": 141
        }
      ]
    },
    {
      "cell_type": "markdown",
      "source": [
        "# **D. Modelling and Evaluation ML**"
      ],
      "metadata": {
        "id": "2k4eHzaSAneQ"
      }
    },
    {
      "cell_type": "code",
      "source": [
        "df_model.columns"
      ],
      "metadata": {
        "colab": {
          "base_uri": "https://localhost:8080/"
        },
        "id": "dnLQxry1AqB6",
        "outputId": "9fef00ca-fe7e-4a96-c89b-272d1fb5dedb"
      },
      "execution_count": 142,
      "outputs": [
        {
          "output_type": "execute_result",
          "data": {
            "text/plain": [
              "Index(['term_ 36 months', 'term_ 60 months',\n",
              "       'verification_status_Not Verified',\n",
              "       'verification_status_Source Verified', 'verification_status_Verified',\n",
              "       'pymnt_plan_n', 'pymnt_plan_y', 'purpose_car', 'purpose_credit_card',\n",
              "       'purpose_debt_consolidation', 'purpose_educational',\n",
              "       'purpose_home_improvement', 'purpose_house', 'purpose_major_purchase',\n",
              "       'purpose_medical', 'purpose_moving', 'purpose_other',\n",
              "       'purpose_renewable_energy', 'purpose_small_business',\n",
              "       'purpose_vacation', 'purpose_wedding', 'addr_state_AK', 'addr_state_AL',\n",
              "       'addr_state_AR', 'addr_state_AZ', 'addr_state_CA', 'addr_state_CO',\n",
              "       'addr_state_CT', 'addr_state_DC', 'addr_state_DE', 'addr_state_FL',\n",
              "       'addr_state_GA', 'addr_state_HI', 'addr_state_IA', 'addr_state_ID',\n",
              "       'addr_state_IL', 'addr_state_IN', 'addr_state_KS', 'addr_state_KY',\n",
              "       'addr_state_LA', 'addr_state_MA', 'addr_state_MD', 'addr_state_ME',\n",
              "       'addr_state_MI', 'addr_state_MN', 'addr_state_MO', 'addr_state_MS',\n",
              "       'addr_state_MT', 'addr_state_NC', 'addr_state_NE', 'addr_state_NH',\n",
              "       'addr_state_NJ', 'addr_state_NM', 'addr_state_NV', 'addr_state_NY',\n",
              "       'addr_state_OH', 'addr_state_OK', 'addr_state_OR', 'addr_state_PA',\n",
              "       'addr_state_RI', 'addr_state_SC', 'addr_state_SD', 'addr_state_TN',\n",
              "       'addr_state_TX', 'addr_state_UT', 'addr_state_VA', 'addr_state_VT',\n",
              "       'addr_state_WA', 'addr_state_WI', 'addr_state_WV', 'addr_state_WY',\n",
              "       'initial_list_status_f', 'initial_list_status_w', 'loan_amnt',\n",
              "       'funded_amnt', 'funded_amnt_inv', 'int_rate', 'installment', 'grade',\n",
              "       'emp_length', 'home_ownership', 'annual_inc', 'loan_status', 'dti',\n",
              "       'open_acc', 'revol_bal', 'revol_util', 'total_acc', 'out_prncp',\n",
              "       'out_prncp_inv', 'total_pymnt', 'total_pymnt_inv', 'total_rec_prncp',\n",
              "       'total_rec_int', 'total_rec_late_fee', 'recoveries',\n",
              "       'collection_recovery_fee'],\n",
              "      dtype='object')"
            ]
          },
          "metadata": {},
          "execution_count": 142
        }
      ]
    },
    {
      "cell_type": "code",
      "source": [
        "x = df_model.drop(['loan_status'],axis=1)\n",
        "y = df_model['loan_status']"
      ],
      "metadata": {
        "id": "18JqlWOkESRJ"
      },
      "execution_count": 143,
      "outputs": []
    },
    {
      "cell_type": "code",
      "execution_count": 144,
      "metadata": {
        "id": "wpDTd7mr2JE-"
      },
      "outputs": [],
      "source": [
        "X_train, X_test, y_train, y_test = train_test_split(x, y, test_size = 0.2, random_state = 42)"
      ]
    },
    {
      "cell_type": "code",
      "execution_count": 145,
      "metadata": {
        "id": "4k7B2m_oxDYI"
      },
      "outputs": [],
      "source": [
        "from sklearn.preprocessing import StandardScaler\n",
        "ss = StandardScaler()\n",
        "\n",
        "x_train_scaled = ss.fit_transform(X_train)\n",
        "x_test_scaled = ss.transform(X_test)"
      ]
    },
    {
      "cell_type": "code",
      "source": [
        "sm = SMOTE(random_state=2)\n",
        "x_train_res, y_train_res = sm.fit_resample(x_train_scaled, y_train.ravel())"
      ],
      "metadata": {
        "id": "6uptlH3sNlum"
      },
      "execution_count": 146,
      "outputs": []
    },
    {
      "cell_type": "code",
      "source": [
        "unique, counts = np.unique(y_train_res, return_counts=True)\n",
        "dict(zip(unique, counts))"
      ],
      "metadata": {
        "colab": {
          "base_uri": "https://localhost:8080/"
        },
        "id": "dPq12tQzBiZr",
        "outputId": "6d974dd7-63fc-4557-e285-77897775782b"
      },
      "execution_count": 147,
      "outputs": [
        {
          "output_type": "execute_result",
          "data": {
            "text/plain": [
              "{0: 147755, 1: 147755}"
            ]
          },
          "metadata": {},
          "execution_count": 147
        }
      ]
    },
    {
      "cell_type": "code",
      "source": [
        "models = pd.DataFrame(columns=['Model', 'Precision', 'Recall', 'Accuracy', 'F1-Score'])"
      ],
      "metadata": {
        "id": "ANbA_2oMKLt-"
      },
      "execution_count": 148,
      "outputs": []
    },
    {
      "cell_type": "markdown",
      "source": [
        "logistic Reg"
      ],
      "metadata": {
        "id": "XRfDkw-QMNEf"
      }
    },
    {
      "cell_type": "code",
      "source": [
        "from sklearn.linear_model import LogisticRegression\n",
        "log_reg_model = LogisticRegression(max_iter=1000) #model\n",
        "log_reg_model.fit(x_train_res,y_train_res) \n",
        "\n",
        "train_predictions_log = log_reg_model.predict(x_train_res) #train the model\n",
        "test_predictions_log = log_reg_model.predict(x_test_scaled) #test the model\n",
        "\n",
        "precision = precision_score(y_test,test_predictions_log)\n",
        "recall = recall_score(y_test,test_predictions_log)\n",
        "accu = accuracy_score(y_test,test_predictions_log)\n",
        "f1_sc = f1_score(y_test,test_predictions_log) \n",
        "\n",
        "print('Logistic regression model evaluation:')\n",
        "print('Precision: ', precision)\n",
        "print('Recall: ', recall)\n",
        "print('\\nAccuracy: ',accu)\n",
        "print('f1_score: ', f1_sc)\n",
        "\n",
        "new_row = {\"Model\": \"Logistic Regression\",\"Precision\": precision, \"Recall\": recall, \"Accuracy\": accu, \"F1-Score\": f1_sc}\n",
        "models = models.append(new_row, ignore_index=True)"
      ],
      "metadata": {
        "colab": {
          "base_uri": "https://localhost:8080/"
        },
        "id": "6F8GHFboLL_4",
        "outputId": "6218a280-6bb6-44c4-c640-241f203a37f7"
      },
      "execution_count": 149,
      "outputs": [
        {
          "output_type": "stream",
          "name": "stdout",
          "text": [
            "Logistic regression model evaluation:\n",
            "Precision:  0.9958202998597778\n",
            "Recall:  0.9985128704304564\n",
            "\n",
            "Accuracy:  0.9955539559206487\n",
            "f1_score:  0.997164767510936\n"
          ]
        }
      ]
    },
    {
      "cell_type": "code",
      "source": [
        "from sklearn.metrics import plot_confusion_matrix\n",
        "plot_confusion_matrix(log_reg_model,x_test_scaled,y_test)"
      ],
      "metadata": {
        "colab": {
          "base_uri": "https://localhost:8080/",
          "height": 296
        },
        "id": "28yOnJeCMFxs",
        "outputId": "77b65437-9932-41bf-8729-66635947f4ce"
      },
      "execution_count": 150,
      "outputs": [
        {
          "output_type": "execute_result",
          "data": {
            "text/plain": [
              "<sklearn.metrics._plot.confusion_matrix.ConfusionMatrixDisplay at 0x7fac505803d0>"
            ]
          },
          "metadata": {},
          "execution_count": 150
        },
        {
          "output_type": "display_data",
          "data": {
            "text/plain": [
              "<Figure size 432x288 with 2 Axes>"
            ],
            "image/png": "[encoded data removed]"
          },
          "metadata": {
            "needs_background": "light"
          }
        }
      ]
    },
    {
      "cell_type": "code",
      "source": [
        "from sklearn.metrics import plot_confusion_matrix, classification_report\n",
        "\n",
        "print(classification_report(y_test,test_predictions_log))\n",
        "\n",
        "print('Accuracy Score: ',accuracy_score(y_test,test_predictions_log))"
      ],
      "metadata": {
        "colab": {
          "base_uri": "https://localhost:8080/"
        },
        "id": "VIB9bIC7DUXy",
        "outputId": "e9c911c9-cdd2-4067-ea54-dc89f30a82af"
      },
      "execution_count": 151,
      "outputs": [
        {
          "output_type": "stream",
          "name": "stdout",
          "text": [
            "              precision    recall  f1-score   support\n",
            "\n",
            "           0       0.99      0.98      0.99     10249\n",
            "           1       1.00      1.00      1.00     36984\n",
            "\n",
            "    accuracy                           1.00     47233\n",
            "   macro avg       1.00      0.99      0.99     47233\n",
            "weighted avg       1.00      1.00      1.00     47233\n",
            "\n",
            "Accuracy Score:  0.9955539559206487\n"
          ]
        }
      ]
    },
    {
      "cell_type": "markdown",
      "source": [
        "Random Forest"
      ],
      "metadata": {
        "id": "YCs00fs4D5sG"
      }
    },
    {
      "cell_type": "code",
      "source": [
        "from sklearn.ensemble import RandomForestClassifier\n",
        "random_forest_model = RandomForestClassifier(random_state=42) #model\n",
        "random_forest_model.fit(x_train_res,y_train_res) \n",
        "\n",
        "train_predictions_rf = random_forest_model.predict(x_train_res) #train the model\n",
        "test_predictions_rf = random_forest_model.predict(x_test_scaled) #test the model\n",
        "\n",
        "precision = precision_score(y_test,test_predictions_rf)\n",
        "recall = recall_score(y_test,test_predictions_rf)\n",
        "accu = accuracy_score(y_test,test_predictions_rf)\n",
        "f1_sc = f1_score(y_test,test_predictions_rf) \n",
        "\n",
        "print('Random Forest Classifier model evaluation:')\n",
        "print('Precision: ', precision)\n",
        "print('Recall: ', recall)\n",
        "print('\\nAccuracy: ',accu)\n",
        "print('f1_score: ', f1_sc)\n",
        "\n",
        "new_row = {\"Model\": \"Random Forest Classifier\",\"Precision\": precision, \"Recall\": recall, \"Accuracy\": accu, \"F1-Score\": f1_sc}\n",
        "models = models.append(new_row, ignore_index=True)"
      ],
      "metadata": {
        "colab": {
          "base_uri": "https://localhost:8080/"
        },
        "id": "tjX6A_iPD7hr",
        "outputId": "33ac6e26-59d1-43f9-e412-58134063f006"
      },
      "execution_count": 152,
      "outputs": [
        {
          "output_type": "stream",
          "name": "stdout",
          "text": [
            "Random Forest Classifier model evaluation:\n",
            "Precision:  0.9972729972729972\n",
            "Recall:  0.9987021414665801\n",
            "\n",
            "Accuracy:  0.9968454258675079\n",
            "f1_score:  0.9979870577268614\n"
          ]
        }
      ]
    },
    {
      "cell_type": "code",
      "source": [
        "plot_confusion_matrix(random_forest_model,x_test_scaled,y_test)"
      ],
      "metadata": {
        "colab": {
          "base_uri": "https://localhost:8080/",
          "height": 296
        },
        "id": "mRKgvlB3FE9J",
        "outputId": "555e2093-dbc6-4d9e-cf08-82fa57f585d3"
      },
      "execution_count": 153,
      "outputs": [
        {
          "output_type": "execute_result",
          "data": {
            "text/plain": [
              "<sklearn.metrics._plot.confusion_matrix.ConfusionMatrixDisplay at 0x7fac5026c3d0>"
            ]
          },
          "metadata": {},
          "execution_count": 153
        },
        {
          "output_type": "display_data",
          "data": {
            "text/plain": [
              "<Figure size 432x288 with 2 Axes>"
            ],
            "image/png": "[encoded data removed]"
          },
          "metadata": {
            "needs_background": "light"
          }
        }
      ]
    },
    {
      "cell_type": "code",
      "source": [
        "print(classification_report(y_test,test_predictions_rf))\n",
        "\n",
        "print('Accuracy Score: ',accuracy_score(y_test,test_predictions_rf))"
      ],
      "metadata": {
        "colab": {
          "base_uri": "https://localhost:8080/"
        },
        "id": "2CBuc_x4FQn7",
        "outputId": "f5022c8d-d903-4dcd-8535-4994947c0f27"
      },
      "execution_count": 154,
      "outputs": [
        {
          "output_type": "stream",
          "name": "stdout",
          "text": [
            "              precision    recall  f1-score   support\n",
            "\n",
            "           0       1.00      0.99      0.99     10249\n",
            "           1       1.00      1.00      1.00     36984\n",
            "\n",
            "    accuracy                           1.00     47233\n",
            "   macro avg       1.00      0.99      1.00     47233\n",
            "weighted avg       1.00      1.00      1.00     47233\n",
            "\n",
            "Accuracy Score:  0.9968454258675079\n"
          ]
        }
      ]
    },
    {
      "cell_type": "markdown",
      "source": [
        "Decission Tree"
      ],
      "metadata": {
        "id": "XsXvFaD4FXJI"
      }
    },
    {
      "cell_type": "code",
      "source": [
        "from sklearn.tree import DecisionTreeClassifier\n",
        "dtc_model = DecisionTreeClassifier() #model\n",
        "dtc_model.fit(x_train_scaled,y_train) \n",
        "\n",
        "train_predictions_dtc = dtc_model.predict(x_train_scaled) #train the model\n",
        "test_predictions_dtc = dtc_model.predict(x_test_scaled) #test the model\n",
        "\n",
        "precision = precision_score(y_test,test_predictions_dtc)\n",
        "recall = recall_score(y_test,test_predictions_dtc)\n",
        "accu = accuracy_score(y_test,test_predictions_dtc)\n",
        "f1_sc = f1_score(y_test,test_predictions_dtc) \n",
        "\n",
        "print('Decision Tree Classifier model evaluation:')\n",
        "print('Precision: ', precision)\n",
        "print('Recall: ', recall)\n",
        "print('\\nAccuracy: ',accu)\n",
        "print('f1_score: ', f1_sc)\n",
        "\n",
        "new_row = {\"Model\": \"Decision Tree Classifier\",\"Precision\": precision, \"Recall\": recall, \"Accuracy\": accu, \"F1-Score\": f1_sc}\n",
        "models = models.append(new_row, ignore_index=True)"
      ],
      "metadata": {
        "colab": {
          "base_uri": "https://localhost:8080/"
        },
        "id": "FcSK1UHhFYol",
        "outputId": "611076e2-3eab-4ae9-f9ed-e09227a7ace2"
      },
      "execution_count": 155,
      "outputs": [
        {
          "output_type": "stream",
          "name": "stdout",
          "text": [
            "Decision Tree Classifier model evaluation:\n",
            "Precision:  0.9977274571869167\n",
            "Recall:  0.997160934458144\n",
            "\n",
            "Accuracy:  0.9959985603285838\n",
            "f1_score:  0.9974441153799342\n"
          ]
        }
      ]
    },
    {
      "cell_type": "code",
      "source": [
        "plot_confusion_matrix(dtc_model,x_test_scaled,y_test)"
      ],
      "metadata": {
        "colab": {
          "base_uri": "https://localhost:8080/",
          "height": 296
        },
        "id": "xA7pDqYpJ1Mf",
        "outputId": "e510afcd-d379-4c95-82cf-18d3c8279611"
      },
      "execution_count": 156,
      "outputs": [
        {
          "output_type": "execute_result",
          "data": {
            "text/plain": [
              "<sklearn.metrics._plot.confusion_matrix.ConfusionMatrixDisplay at 0x7fac5085bc50>"
            ]
          },
          "metadata": {},
          "execution_count": 156
        },
        {
          "output_type": "display_data",
          "data": {
            "text/plain": [
              "<Figure size 432x288 with 2 Axes>"
            ],
            "image/png": "[encoded data removed]"
          },
          "metadata": {
            "needs_background": "light"
          }
        }
      ]
    },
    {
      "cell_type": "code",
      "source": [
        "print(classification_report(y_test,test_predictions_dtc))\n",
        "\n",
        "print('Accuracy Score: ',accuracy_score(y_test,test_predictions_dtc))"
      ],
      "metadata": {
        "colab": {
          "base_uri": "https://localhost:8080/"
        },
        "id": "2J5H_jUaJ5v6",
        "outputId": "f765e9f2-e546-49a9-84f6-13c063b9e316"
      },
      "execution_count": 157,
      "outputs": [
        {
          "output_type": "stream",
          "name": "stdout",
          "text": [
            "              precision    recall  f1-score   support\n",
            "\n",
            "           0       0.99      0.99      0.99     10249\n",
            "           1       1.00      1.00      1.00     36984\n",
            "\n",
            "    accuracy                           1.00     47233\n",
            "   macro avg       0.99      0.99      0.99     47233\n",
            "weighted avg       1.00      1.00      1.00     47233\n",
            "\n",
            "Accuracy Score:  0.9959985603285838\n"
          ]
        }
      ]
    },
    {
      "cell_type": "code",
      "source": [
        "models"
      ],
      "metadata": {
        "colab": {
          "base_uri": "https://localhost:8080/",
          "height": 143
        },
        "id": "LPqNpZEgLiLM",
        "outputId": "998d5f19-5214-4247-e5d6-0bf97d0bad18"
      },
      "execution_count": 158,
      "outputs": [
        {
          "output_type": "execute_result",
          "data": {
            "text/plain": [
              "                      Model  Precision    Recall  Accuracy  F1-Score\n",
              "0       Logistic Regression   0.995820  0.998513  0.995554  0.997165\n",
              "1  Random Forest Classifier   0.997273  0.998702  0.996845  0.997987\n",
              "2  Decision Tree Classifier   0.997727  0.997161  0.995999  0.997444"
            ],
            "text/html": [
              "\n",
              "  <div id=\"df-e9ee028d-2f54-4a07-ad7e-e0d7bce4ef66\">\n",
              "    <div class=\"colab-df-container\">\n",
              "      <div>\n",
              "<style scoped>\n",
              "    .dataframe tbody tr th:only-of-type {\n",
              "        vertical-align: middle;\n",
              "    }\n",
              "\n",
              "    .dataframe tbody tr th {\n",
              "        vertical-align: top;\n",
              "    }\n",
              "\n",
              "    .dataframe thead th {\n",
              "        text-align: right;\n",
              "    }\n",
              "</style>\n",
              "<table border=\"1\" class=\"dataframe\">\n",
              "  <thead>\n",
              "    <tr style=\"text-align: right;\">\n",
              "      <th></th>\n",
              "      <th>Model</th>\n",
              "      <th>Precision</th>\n",
              "      <th>Recall</th>\n",
              "      <th>Accuracy</th>\n",
              "      <th>F1-Score</th>\n",
              "    </tr>\n",
              "  </thead>\n",
              "  <tbody>\n",
              "    <tr>\n",
              "      <th>0</th>\n",
              "      <td>Logistic Regression</td>\n",
              "      <td>0.995820</td>\n",
              "      <td>0.998513</td>\n",
              "      <td>0.995554</td>\n",
              "      <td>0.997165</td>\n",
              "    </tr>\n",
              "    <tr>\n",
              "      <th>1</th>\n",
              "      <td>Random Forest Classifier</td>\n",
              "      <td>0.997273</td>\n",
              "      <td>0.998702</td>\n",
              "      <td>0.996845</td>\n",
              "      <td>0.997987</td>\n",
              "    </tr>\n",
              "    <tr>\n",
              "      <th>2</th>\n",
              "      <td>Decision Tree Classifier</td>\n",
              "      <td>0.997727</td>\n",
              "      <td>0.997161</td>\n",
              "      <td>0.995999</td>\n",
              "      <td>0.997444</td>\n",
              "    </tr>\n",
              "  </tbody>\n",
              "</table>\n",
              "</div>\n",
              "      <button class=\"colab-df-convert\" onclick=\"convertToInteractive('df-e9ee028d-2f54-4a07-ad7e-e0d7bce4ef66')\"\n",
              "              title=\"Convert this dataframe to an interactive table.\"\n",
              "              style=\"display:none;\">\n",
              "        \n",
              "  <svg xmlns=\"http://www.w3.org/2000/svg\" height=\"24px\"viewBox=\"0 0 24 24\"\n",
              "       width=\"24px\">\n",
              "    <path d=\"M0 0h24v24H0V0z\" fill=\"none\"/>\n",
              "    <path d=\"M18.56 5.44l.94 2.06.94-2.06 2.06-.94-2.06-.94-.94-2.06-.94 2.06-2.06.94zm-11 1L8.5 8.5l.94-2.06 2.06-.94-2.06-.94L8.5 2.5l-.94 2.06-2.06.94zm10 10l.94 2.06.94-2.06 2.06-.94-2.06-.94-.94-2.06-.94 2.06-2.06.94z\"/><path d=\"M17.41 7.96l-1.37-1.37c-.4-.4-.92-.59-1.43-.59-.52 0-1.04.2-1.43.59L10.3 9.45l-7.72 7.72c-.78.78-.78 2.05 0 2.83L4 21.41c.39.39.9.59 1.41.59.51 0 1.02-.2 1.41-.59l7.78-7.78 2.81-2.81c.8-.78.8-2.07 0-2.86zM5.41 20L4 18.59l7.72-7.72 1.47 1.35L5.41 20z\"/>\n",
              "  </svg>\n",
              "      </button>\n",
              "      \n",
              "  <style>\n",
              "    .colab-df-container {\n",
              "      display:flex;\n",
              "      flex-wrap:wrap;\n",
              "      gap: 12px;\n",
              "    }\n",
              "\n",
              "    .colab-df-convert {\n",
              "      background-color: #E8F0FE;\n",
              "      border: none;\n",
              "      border-radius: 50%;\n",
              "      cursor: pointer;\n",
              "      display: none;\n",
              "      fill: #1967D2;\n",
              "      height: 32px;\n",
              "      padding: 0 0 0 0;\n",
              "      width: 32px;\n",
              "    }\n",
              "\n",
              "    .colab-df-convert:hover {\n",
              "      background-color: #E2EBFA;\n",
              "      box-shadow: 0px 1px 2px rgba(60, 64, 67, 0.3), 0px 1px 3px 1px rgba(60, 64, 67, 0.15);\n",
              "      fill: #174EA6;\n",
              "    }\n",
              "\n",
              "    [theme=dark] .colab-df-convert {\n",
              "      background-color: #3B4455;\n",
              "      fill: #D2E3FC;\n",
              "    }\n",
              "\n",
              "    [theme=dark] .colab-df-convert:hover {\n",
              "      background-color: #434B5C;\n",
              "      box-shadow: 0px 1px 3px 1px rgba(0, 0, 0, 0.15);\n",
              "      filter: drop-shadow(0px 1px 2px rgba(0, 0, 0, 0.3));\n",
              "      fill: #FFFFFF;\n",
              "    }\n",
              "  </style>\n",
              "\n",
              "      <script>\n",
              "        const buttonEl =\n",
              "          document.querySelector('#df-e9ee028d-2f54-4a07-ad7e-e0d7bce4ef66 button.colab-df-convert');\n",
              "        buttonEl.style.display =\n",
              "          google.colab.kernel.accessAllowed ? 'block' : 'none';\n",
              "\n",
              "        async function convertToInteractive(key) {\n",
              "          const element = document.querySelector('#df-e9ee028d-2f54-4a07-ad7e-e0d7bce4ef66');\n",
              "          const dataTable =\n",
              "            await google.colab.kernel.invokeFunction('convertToInteractive',\n",
              "                                                     [key], {});\n",
              "          if (!dataTable) return;\n",
              "\n",
              "          const docLinkHtml = 'Like what you see? Visit the ' +\n",
              "            '<a target=\"_blank\" href=https://colab.research.google.com/notebooks/data_table.ipynb>data table notebook</a>'\n",
              "            + ' to learn more about interactive tables.';\n",
              "          element.innerHTML = '';\n",
              "          dataTable['output_type'] = 'display_data';\n",
              "          await google.colab.output.renderOutput(dataTable, element);\n",
              "          const docLink = document.createElement('div');\n",
              "          docLink.innerHTML = docLinkHtml;\n",
              "          element.appendChild(docLink);\n",
              "        }\n",
              "      </script>\n",
              "    </div>\n",
              "  </div>\n",
              "  "
            ]
          },
          "metadata": {},
          "execution_count": 158
        }
      ]
    },
    {
      "cell_type": "code",
      "source": [
        "from sklearn.metrics import roc_auc_score\n",
        "from sklearn.metrics import roc_curve\n",
        "from matplotlib.pyplot import figure\n",
        "\n",
        "figure(figsize=(8, 6), dpi=80)\n",
        "fpr, tpr, _ =roc_curve(y_test, test_predictions_log)\n",
        "auc = roc_auc_score(y_test, test_predictions_log)\n",
        "plt.plot(fpr,tpr,label=\"Log Reg=\"+str(auc),color='darkorange')\n",
        "plt.plot([0, 1], [0, 1], color=\"navy\", linestyle=\"--\")\n",
        "\n",
        "fpr, tpr, _ =roc_curve(y_test,  test_predictions_rf)\n",
        "auc = roc_auc_score(y_test, test_predictions_rf)\n",
        "plt.plot(fpr,tpr,label=\"Random Forest=\"+str(auc),color='darkgreen')\n",
        "plt.plot([0, 1], [0, 1], color=\"navy\", linestyle=\"--\")\n",
        "\n",
        "fpr, tpr, _ =roc_curve(y_test,  test_predictions_dtc)\n",
        "auc = roc_auc_score(y_test, test_predictions_dtc)\n",
        "plt.plot(fpr,tpr,label=\"Decission Tree=\"+str(auc),color='red')\n",
        "plt.plot([0, 1], [0, 1], color=\"navy\", linestyle=\"--\")\n",
        "\n",
        "plt.ylabel('True Positive Rate')\n",
        "plt.xlabel('False Positive Rate')\n",
        "plt.legend(loc=4)\n",
        "plt.show()"
      ],
      "metadata": {
        "colab": {
          "base_uri": "https://localhost:8080/",
          "height": 427
        },
        "id": "VQHujEb3I6z3",
        "outputId": "7160635c-dda1-49fc-b463-3641c80ae396"
      },
      "execution_count": 159,
      "outputs": [
        {
          "output_type": "display_data",
          "data": {
            "text/plain": [
              "<Figure size 640x480 with 1 Axes>"
            ],
            "image/png": "[encoded data removed]"
          },
          "metadata": {
            "needs_background": "light"
          }
        }
      ]
    },
    {
      "cell_type": "markdown",
      "source": [
        "**Features Importance**"
      ],
      "metadata": {
        "id": "6AhR2Y2oLWYy"
      }
    },
    {
      "cell_type": "code",
      "source": [
        "importances = pd.DataFrame(data={\n",
        "    'Attribute': X_train.columns,\n",
        "    'Importance': random_forest_model.feature_importances_\n",
        "})\n",
        "importances = importances.head(10).sort_values(by='Importance', ascending=False)\n",
        "\n",
        "plt.bar(x=importances['Attribute'], height=importances['Importance'], color='#087E8B')\n",
        "plt.title('Feature importances obtained from coefficients', size=20)\n",
        "plt.xticks(rotation='vertical')\n",
        "plt.show()"
      ],
      "metadata": {
        "colab": {
          "base_uri": "https://localhost:8080/",
          "height": 449
        },
        "id": "UREWG-zXLat4",
        "outputId": "c7646ff7-ec14-4f49-b335-6ca12876f901"
      },
      "execution_count": 160,
      "outputs": [
        {
          "output_type": "display_data",
          "data": {
            "text/plain": [
              "<Figure size 432x288 with 1 Axes>"
            ],
            "image/png": "[encoded data removed]"
          },
          "metadata": {
            "needs_background": "light"
          }
        }
      ]
    }
  ]
}